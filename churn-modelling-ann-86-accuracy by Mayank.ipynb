{
 "cells": [
  {
   "cell_type": "code",
   "execution_count": 1,
   "id": "3610faf4",
   "metadata": {
    "execution": {
     "iopub.execute_input": "2022-08-22T15:49:02.299249Z",
     "iopub.status.busy": "2022-08-22T15:49:02.298315Z",
     "iopub.status.idle": "2022-08-22T15:49:09.065781Z",
     "shell.execute_reply": "2022-08-22T15:49:09.064479Z"
    },
    "papermill": {
     "duration": 6.788006,
     "end_time": "2022-08-22T15:49:09.068655",
     "exception": false,
     "start_time": "2022-08-22T15:49:02.280649",
     "status": "completed"
    },
    "tags": []
   },
   "outputs": [],
   "source": [
    "import pandas as pd\n",
    "import numpy as np\n",
    "import matplotlib.pyplot as plt\n",
    "import tensorflow as tf\n",
    "import seaborn as sns\n",
    "import warnings\n",
    "warnings.filterwarnings('ignore')"
   ]
  },
  {
   "cell_type": "code",
   "execution_count": 2,
   "id": "e96a8c08",
   "metadata": {
    "execution": {
     "iopub.execute_input": "2022-08-22T15:49:09.103229Z",
     "iopub.status.busy": "2022-08-22T15:49:09.102154Z",
     "iopub.status.idle": "2022-08-22T15:49:09.209015Z",
     "shell.execute_reply": "2022-08-22T15:49:09.208085Z"
    },
    "id": "x5SIRP72WUF-",
    "papermill": {
     "duration": 0.127138,
     "end_time": "2022-08-22T15:49:09.211743",
     "exception": false,
     "start_time": "2022-08-22T15:49:09.084605",
     "status": "completed"
    },
    "tags": []
   },
   "outputs": [],
   "source": [
    "#import dataset\n",
    "df=pd.read_csv('Churn_Modelling.csv')"
   ]
  },
  {
   "cell_type": "code",
   "execution_count": 3,
   "id": "074b5ca7",
   "metadata": {
    "execution": {
     "iopub.execute_input": "2022-08-22T15:49:09.250511Z",
     "iopub.status.busy": "2022-08-22T15:49:09.250103Z",
     "iopub.status.idle": "2022-08-22T15:49:09.277998Z",
     "shell.execute_reply": "2022-08-22T15:49:09.277103Z"
    },
    "id": "FvmSK5qUWU5L",
    "outputId": "23f77f20-ae4b-4c19-cb05-d09ab806fd28",
    "papermill": {
     "duration": 0.053778,
     "end_time": "2022-08-22T15:49:09.282140",
     "exception": false,
     "start_time": "2022-08-22T15:49:09.228362",
     "status": "completed"
    },
    "tags": []
   },
   "outputs": [
    {
     "data": {
      "text/html": [
       "<div>\n",
       "<style scoped>\n",
       "    .dataframe tbody tr th:only-of-type {\n",
       "        vertical-align: middle;\n",
       "    }\n",
       "\n",
       "    .dataframe tbody tr th {\n",
       "        vertical-align: top;\n",
       "    }\n",
       "\n",
       "    .dataframe thead th {\n",
       "        text-align: right;\n",
       "    }\n",
       "</style>\n",
       "<table border=\"1\" class=\"dataframe\">\n",
       "  <thead>\n",
       "    <tr style=\"text-align: right;\">\n",
       "      <th></th>\n",
       "      <th>RowNumber</th>\n",
       "      <th>CustomerId</th>\n",
       "      <th>Surname</th>\n",
       "      <th>CreditScore</th>\n",
       "      <th>Geography</th>\n",
       "      <th>Gender</th>\n",
       "      <th>Age</th>\n",
       "      <th>Tenure</th>\n",
       "      <th>Balance</th>\n",
       "      <th>NumOfProducts</th>\n",
       "      <th>HasCrCard</th>\n",
       "      <th>IsActiveMember</th>\n",
       "      <th>EstimatedSalary</th>\n",
       "      <th>Exited</th>\n",
       "    </tr>\n",
       "  </thead>\n",
       "  <tbody>\n",
       "    <tr>\n",
       "      <th>0</th>\n",
       "      <td>1</td>\n",
       "      <td>15634602</td>\n",
       "      <td>Hargrave</td>\n",
       "      <td>619</td>\n",
       "      <td>France</td>\n",
       "      <td>Female</td>\n",
       "      <td>42</td>\n",
       "      <td>2</td>\n",
       "      <td>0.00</td>\n",
       "      <td>1</td>\n",
       "      <td>1</td>\n",
       "      <td>1</td>\n",
       "      <td>101348.88</td>\n",
       "      <td>1</td>\n",
       "    </tr>\n",
       "    <tr>\n",
       "      <th>1</th>\n",
       "      <td>2</td>\n",
       "      <td>15647311</td>\n",
       "      <td>Hill</td>\n",
       "      <td>608</td>\n",
       "      <td>Spain</td>\n",
       "      <td>Female</td>\n",
       "      <td>41</td>\n",
       "      <td>1</td>\n",
       "      <td>83807.86</td>\n",
       "      <td>1</td>\n",
       "      <td>0</td>\n",
       "      <td>1</td>\n",
       "      <td>112542.58</td>\n",
       "      <td>0</td>\n",
       "    </tr>\n",
       "    <tr>\n",
       "      <th>2</th>\n",
       "      <td>3</td>\n",
       "      <td>15619304</td>\n",
       "      <td>Onio</td>\n",
       "      <td>502</td>\n",
       "      <td>France</td>\n",
       "      <td>Female</td>\n",
       "      <td>42</td>\n",
       "      <td>8</td>\n",
       "      <td>159660.80</td>\n",
       "      <td>3</td>\n",
       "      <td>1</td>\n",
       "      <td>0</td>\n",
       "      <td>113931.57</td>\n",
       "      <td>1</td>\n",
       "    </tr>\n",
       "    <tr>\n",
       "      <th>3</th>\n",
       "      <td>4</td>\n",
       "      <td>15701354</td>\n",
       "      <td>Boni</td>\n",
       "      <td>699</td>\n",
       "      <td>France</td>\n",
       "      <td>Female</td>\n",
       "      <td>39</td>\n",
       "      <td>1</td>\n",
       "      <td>0.00</td>\n",
       "      <td>2</td>\n",
       "      <td>0</td>\n",
       "      <td>0</td>\n",
       "      <td>93826.63</td>\n",
       "      <td>0</td>\n",
       "    </tr>\n",
       "    <tr>\n",
       "      <th>4</th>\n",
       "      <td>5</td>\n",
       "      <td>15737888</td>\n",
       "      <td>Mitchell</td>\n",
       "      <td>850</td>\n",
       "      <td>Spain</td>\n",
       "      <td>Female</td>\n",
       "      <td>43</td>\n",
       "      <td>2</td>\n",
       "      <td>125510.82</td>\n",
       "      <td>1</td>\n",
       "      <td>1</td>\n",
       "      <td>1</td>\n",
       "      <td>79084.10</td>\n",
       "      <td>0</td>\n",
       "    </tr>\n",
       "  </tbody>\n",
       "</table>\n",
       "</div>"
      ],
      "text/plain": [
       "   RowNumber  CustomerId   Surname  CreditScore Geography  Gender  Age  \\\n",
       "0          1    15634602  Hargrave          619    France  Female   42   \n",
       "1          2    15647311      Hill          608     Spain  Female   41   \n",
       "2          3    15619304      Onio          502    France  Female   42   \n",
       "3          4    15701354      Boni          699    France  Female   39   \n",
       "4          5    15737888  Mitchell          850     Spain  Female   43   \n",
       "\n",
       "   Tenure    Balance  NumOfProducts  HasCrCard  IsActiveMember  \\\n",
       "0       2       0.00              1          1               1   \n",
       "1       1   83807.86              1          0               1   \n",
       "2       8  159660.80              3          1               0   \n",
       "3       1       0.00              2          0               0   \n",
       "4       2  125510.82              1          1               1   \n",
       "\n",
       "   EstimatedSalary  Exited  \n",
       "0        101348.88       1  \n",
       "1        112542.58       0  \n",
       "2        113931.57       1  \n",
       "3         93826.63       0  \n",
       "4         79084.10       0  "
      ]
     },
     "execution_count": 3,
     "metadata": {},
     "output_type": "execute_result"
    }
   ],
   "source": [
    "#Top 5 records\n",
    "df.head()"
   ]
  },
  {
   "cell_type": "code",
   "execution_count": 4,
   "id": "f9b29cf0",
   "metadata": {
    "execution": {
     "iopub.execute_input": "2022-08-22T15:49:09.333019Z",
     "iopub.status.busy": "2022-08-22T15:49:09.331923Z",
     "iopub.status.idle": "2022-08-22T15:49:09.338939Z",
     "shell.execute_reply": "2022-08-22T15:49:09.337967Z"
    },
    "id": "dU3Op5PbWV27",
    "outputId": "f08b8643-bf28-4a56-c45d-4839a96ff404",
    "papermill": {
     "duration": 0.035785,
     "end_time": "2022-08-22T15:49:09.342504",
     "exception": false,
     "start_time": "2022-08-22T15:49:09.306719",
     "status": "completed"
    },
    "tags": []
   },
   "outputs": [
    {
     "data": {
      "text/plain": [
       "(10000, 14)"
      ]
     },
     "execution_count": 4,
     "metadata": {},
     "output_type": "execute_result"
    }
   ],
   "source": [
    "#shape of df\n",
    "df.shape"
   ]
  },
  {
   "cell_type": "code",
   "execution_count": 5,
   "id": "4dc24814",
   "metadata": {
    "execution": {
     "iopub.execute_input": "2022-08-22T15:49:09.384579Z",
     "iopub.status.busy": "2022-08-22T15:49:09.383517Z",
     "iopub.status.idle": "2022-08-22T15:49:09.395227Z",
     "shell.execute_reply": "2022-08-22T15:49:09.393953Z"
    },
    "id": "58mngRCwWmyc",
    "outputId": "047b823e-6691-422d-d14c-b4db2e3efd60",
    "papermill": {
     "duration": 0.035391,
     "end_time": "2022-08-22T15:49:09.398476",
     "exception": false,
     "start_time": "2022-08-22T15:49:09.363085",
     "status": "completed"
    },
    "tags": []
   },
   "outputs": [
    {
     "data": {
      "text/plain": [
       "RowNumber          0\n",
       "CustomerId         0\n",
       "Surname            0\n",
       "CreditScore        0\n",
       "Geography          0\n",
       "Gender             0\n",
       "Age                0\n",
       "Tenure             0\n",
       "Balance            0\n",
       "NumOfProducts      0\n",
       "HasCrCard          0\n",
       "IsActiveMember     0\n",
       "EstimatedSalary    0\n",
       "Exited             0\n",
       "dtype: int64"
      ]
     },
     "execution_count": 5,
     "metadata": {},
     "output_type": "execute_result"
    }
   ],
   "source": [
    "#check NULL values\n",
    "df.isnull().sum()"
   ]
  },
  {
   "cell_type": "code",
   "execution_count": 6,
   "id": "75bab8b1",
   "metadata": {
    "execution": {
     "iopub.execute_input": "2022-08-22T15:49:09.454242Z",
     "iopub.status.busy": "2022-08-22T15:49:09.452902Z",
     "iopub.status.idle": "2022-08-22T15:49:09.481493Z",
     "shell.execute_reply": "2022-08-22T15:49:09.480604Z"
    },
    "id": "dlFfgzmlWsUr",
    "outputId": "6827c189-ef75-4b07-9867-c1b574f1956f",
    "papermill": {
     "duration": 0.061838,
     "end_time": "2022-08-22T15:49:09.484522",
     "exception": false,
     "start_time": "2022-08-22T15:49:09.422684",
     "status": "completed"
    },
    "tags": []
   },
   "outputs": [
    {
     "data": {
      "text/plain": [
       "0"
      ]
     },
     "execution_count": 6,
     "metadata": {},
     "output_type": "execute_result"
    }
   ],
   "source": [
    "#Dupicates records\n",
    "df.duplicated().sum()"
   ]
  },
  {
   "cell_type": "code",
   "execution_count": 7,
   "id": "d9b8f8a5",
   "metadata": {
    "execution": {
     "iopub.execute_input": "2022-08-22T15:49:09.535578Z",
     "iopub.status.busy": "2022-08-22T15:49:09.534457Z",
     "iopub.status.idle": "2022-08-22T15:49:09.544623Z",
     "shell.execute_reply": "2022-08-22T15:49:09.543323Z"
    },
    "id": "FOdZxQrdW2xj",
    "papermill": {
     "duration": 0.038968,
     "end_time": "2022-08-22T15:49:09.547840",
     "exception": false,
     "start_time": "2022-08-22T15:49:09.508872",
     "status": "completed"
    },
    "tags": []
   },
   "outputs": [],
   "source": [
    "#Drop Unwanted features\n",
    "df.drop(columns=['Surname','RowNumber','CustomerId'],inplace=True)"
   ]
  },
  {
   "cell_type": "code",
   "execution_count": 8,
   "id": "fa414756",
   "metadata": {
    "execution": {
     "iopub.execute_input": "2022-08-22T15:49:09.599011Z",
     "iopub.status.busy": "2022-08-22T15:49:09.598135Z",
     "iopub.status.idle": "2022-08-22T15:49:09.614389Z",
     "shell.execute_reply": "2022-08-22T15:49:09.613261Z"
    },
    "id": "2DtkDO-2XHjM",
    "outputId": "aa6f6501-31ca-4216-c9d4-5112d455033b",
    "papermill": {
     "duration": 0.045174,
     "end_time": "2022-08-22T15:49:09.617393",
     "exception": false,
     "start_time": "2022-08-22T15:49:09.572219",
     "status": "completed"
    },
    "tags": []
   },
   "outputs": [
    {
     "data": {
      "text/html": [
       "<div>\n",
       "<style scoped>\n",
       "    .dataframe tbody tr th:only-of-type {\n",
       "        vertical-align: middle;\n",
       "    }\n",
       "\n",
       "    .dataframe tbody tr th {\n",
       "        vertical-align: top;\n",
       "    }\n",
       "\n",
       "    .dataframe thead th {\n",
       "        text-align: right;\n",
       "    }\n",
       "</style>\n",
       "<table border=\"1\" class=\"dataframe\">\n",
       "  <thead>\n",
       "    <tr style=\"text-align: right;\">\n",
       "      <th></th>\n",
       "      <th>CreditScore</th>\n",
       "      <th>Geography</th>\n",
       "      <th>Gender</th>\n",
       "      <th>Age</th>\n",
       "      <th>Tenure</th>\n",
       "      <th>Balance</th>\n",
       "      <th>NumOfProducts</th>\n",
       "      <th>HasCrCard</th>\n",
       "      <th>IsActiveMember</th>\n",
       "      <th>EstimatedSalary</th>\n",
       "      <th>Exited</th>\n",
       "    </tr>\n",
       "  </thead>\n",
       "  <tbody>\n",
       "    <tr>\n",
       "      <th>0</th>\n",
       "      <td>619</td>\n",
       "      <td>France</td>\n",
       "      <td>Female</td>\n",
       "      <td>42</td>\n",
       "      <td>2</td>\n",
       "      <td>0.00</td>\n",
       "      <td>1</td>\n",
       "      <td>1</td>\n",
       "      <td>1</td>\n",
       "      <td>101348.88</td>\n",
       "      <td>1</td>\n",
       "    </tr>\n",
       "    <tr>\n",
       "      <th>1</th>\n",
       "      <td>608</td>\n",
       "      <td>Spain</td>\n",
       "      <td>Female</td>\n",
       "      <td>41</td>\n",
       "      <td>1</td>\n",
       "      <td>83807.86</td>\n",
       "      <td>1</td>\n",
       "      <td>0</td>\n",
       "      <td>1</td>\n",
       "      <td>112542.58</td>\n",
       "      <td>0</td>\n",
       "    </tr>\n",
       "    <tr>\n",
       "      <th>2</th>\n",
       "      <td>502</td>\n",
       "      <td>France</td>\n",
       "      <td>Female</td>\n",
       "      <td>42</td>\n",
       "      <td>8</td>\n",
       "      <td>159660.80</td>\n",
       "      <td>3</td>\n",
       "      <td>1</td>\n",
       "      <td>0</td>\n",
       "      <td>113931.57</td>\n",
       "      <td>1</td>\n",
       "    </tr>\n",
       "    <tr>\n",
       "      <th>3</th>\n",
       "      <td>699</td>\n",
       "      <td>France</td>\n",
       "      <td>Female</td>\n",
       "      <td>39</td>\n",
       "      <td>1</td>\n",
       "      <td>0.00</td>\n",
       "      <td>2</td>\n",
       "      <td>0</td>\n",
       "      <td>0</td>\n",
       "      <td>93826.63</td>\n",
       "      <td>0</td>\n",
       "    </tr>\n",
       "    <tr>\n",
       "      <th>4</th>\n",
       "      <td>850</td>\n",
       "      <td>Spain</td>\n",
       "      <td>Female</td>\n",
       "      <td>43</td>\n",
       "      <td>2</td>\n",
       "      <td>125510.82</td>\n",
       "      <td>1</td>\n",
       "      <td>1</td>\n",
       "      <td>1</td>\n",
       "      <td>79084.10</td>\n",
       "      <td>0</td>\n",
       "    </tr>\n",
       "  </tbody>\n",
       "</table>\n",
       "</div>"
      ],
      "text/plain": [
       "   CreditScore Geography  Gender  Age  Tenure    Balance  NumOfProducts  \\\n",
       "0          619    France  Female   42       2       0.00              1   \n",
       "1          608     Spain  Female   41       1   83807.86              1   \n",
       "2          502    France  Female   42       8  159660.80              3   \n",
       "3          699    France  Female   39       1       0.00              2   \n",
       "4          850     Spain  Female   43       2  125510.82              1   \n",
       "\n",
       "   HasCrCard  IsActiveMember  EstimatedSalary  Exited  \n",
       "0          1               1        101348.88       1  \n",
       "1          0               1        112542.58       0  \n",
       "2          1               0        113931.57       1  \n",
       "3          0               0         93826.63       0  \n",
       "4          1               1         79084.10       0  "
      ]
     },
     "execution_count": 8,
     "metadata": {},
     "output_type": "execute_result"
    }
   ],
   "source": [
    "#top 5 records\n",
    "df.head()"
   ]
  },
  {
   "cell_type": "code",
   "execution_count": 9,
   "id": "1e26d6f2",
   "metadata": {
    "execution": {
     "iopub.execute_input": "2022-08-22T15:49:09.668135Z",
     "iopub.status.busy": "2022-08-22T15:49:09.667025Z",
     "iopub.status.idle": "2022-08-22T15:49:09.683975Z",
     "shell.execute_reply": "2022-08-22T15:49:09.680457Z"
    },
    "id": "TIeeSLMQU1uI",
    "outputId": "0fa8ce97-e043-4fad-f5f3-99eb6097fd19",
    "papermill": {
     "duration": 0.047603,
     "end_time": "2022-08-22T15:49:09.687962",
     "exception": false,
     "start_time": "2022-08-22T15:49:09.640359",
     "status": "completed"
    },
    "tags": []
   },
   "outputs": [
    {
     "data": {
      "text/plain": [
       "0    7963\n",
       "1    2037\n",
       "Name: Exited, dtype: int64"
      ]
     },
     "execution_count": 9,
     "metadata": {},
     "output_type": "execute_result"
    }
   ],
   "source": [
    "df['Exited'].value_counts()"
   ]
  },
  {
   "cell_type": "code",
   "execution_count": 10,
   "id": "98b62e98",
   "metadata": {
    "execution": {
     "iopub.execute_input": "2022-08-22T15:49:09.730432Z",
     "iopub.status.busy": "2022-08-22T15:49:09.730005Z",
     "iopub.status.idle": "2022-08-22T15:49:10.082650Z",
     "shell.execute_reply": "2022-08-22T15:49:10.081772Z"
    },
    "id": "PSuIwJcQXOzr",
    "outputId": "4570555a-6ba2-4e07-b769-10d9bdee2987",
    "papermill": {
     "duration": 0.376368,
     "end_time": "2022-08-22T15:49:10.085090",
     "exception": false,
     "start_time": "2022-08-22T15:49:09.708722",
     "status": "completed"
    },
    "tags": []
   },
   "outputs": [
    {
     "data": {
      "image/png": "[encoded data removed]",
      "text/plain": [
       "<Figure size 864x360 with 2 Axes>"
      ]
     },
     "metadata": {
      "needs_background": "light"
     },
     "output_type": "display_data"
    }
   ],
   "source": [
    "#Excited and Non Excited Customers\n",
    "plt.figure(figsize=(12,5))\n",
    "plt.subplot(1,2,1)\n",
    "sns.countplot(x='Exited',data=df)\n",
    "plt.title(\"% of Excited and Non Excited Customers\")\n",
    "plt.subplot(1,2,2)\n",
    "#labels =df['Exited'].value_counts(sort = True).index\n",
    "sizes = df['Exited'].value_counts(sort = True)\n",
    "plt.pie(sizes,labels=[\"Not Excited\",\"Excited\"],autopct='%1.2f%%', shadow=True, startangle=90)\n",
    "plt.title('% of Excited and Non Excited People',size = 12)\n",
    "plt.show()"
   ]
  },
  {
   "cell_type": "code",
   "execution_count": 11,
   "id": "3a3c753d",
   "metadata": {
    "execution": {
     "iopub.execute_input": "2022-08-22T15:49:10.195181Z",
     "iopub.status.busy": "2022-08-22T15:49:10.194612Z",
     "iopub.status.idle": "2022-08-22T15:49:11.544214Z",
     "shell.execute_reply": "2022-08-22T15:49:11.542974Z"
    },
    "id": "2A8vKnffZgm1",
    "outputId": "2f878d3f-3b9a-4b3e-b72e-cd85adfacdb3",
    "papermill": {
     "duration": 1.372273,
     "end_time": "2022-08-22T15:49:11.546707",
     "exception": false,
     "start_time": "2022-08-22T15:49:10.174434",
     "status": "completed"
    },
    "tags": []
   },
   "outputs": [
    {
     "data": {
      "image/png": "[encoded data removed]",
      "text/plain": [
       "<Figure size 1080x864 with 6 Axes>"
      ]
     },
     "metadata": {
      "needs_background": "light"
     },
     "output_type": "display_data"
    }
   ],
   "source": [
    "#visualization of categorical features\n",
    "fig, ax = plt.subplots(3, 2, figsize = (15, 12))\n",
    "plt.title(\"Visualization\")\n",
    "sns.countplot('Geography', hue = 'Exited', data = df, ax = ax[0][0],palette='spring')\n",
    "sns.countplot('Gender', hue = 'Exited', data = df, ax = ax[0][1],palette='spring')\n",
    "sns.countplot('Tenure', hue = 'Exited', data = df, ax = ax[1][0],palette='spring')\n",
    "sns.countplot('NumOfProducts', hue = 'Exited', data = df, ax = ax[1][1],palette='spring')\n",
    "sns.countplot('HasCrCard', hue = 'Exited', data = df, ax = ax[2][0],palette='spring')\n",
    "sns.countplot('IsActiveMember', hue = 'Exited', data = df, ax = ax[2][1],palette='spring')\n",
    "\n",
    "ax[0][0].set_title('Count Plot of Geography',color='red',fontsize=15)\n",
    "ax[0][1].set_title('Count Plot of Gender',color='red',fontsize=15)\n",
    "ax[1][0].set_title('Count Plot of Tenure',color='red',fontsize=15)\n",
    "ax[1][1].set_title('Count Plot of NumOfProducts',color='red',fontsize=15)\n",
    "ax[2][0].set_title('Count Plot of HasCrCard',color='red',fontsize=15)\n",
    "ax[2][1].set_title('Count Plot of IsActiveMember',color='red',fontsize=15)\n",
    "\n",
    "plt.tight_layout()\n",
    "plt.show()"
   ]
  },
  {
   "cell_type": "markdown",
   "id": "253ce714",
   "metadata": {
    "papermill": {
     "duration": 0.018047,
     "end_time": "2022-08-22T15:49:11.583305",
     "exception": false,
     "start_time": "2022-08-22T15:49:11.565258",
     "status": "completed"
    },
    "tags": []
   },
   "source": [
    "## Visualization of Numerical Features"
   ]
  },
  {
   "cell_type": "code",
   "execution_count": 12,
   "id": "cfd93fa4",
   "metadata": {
    "execution": {
     "iopub.execute_input": "2022-08-22T15:49:11.622091Z",
     "iopub.status.busy": "2022-08-22T15:49:11.621659Z",
     "iopub.status.idle": "2022-08-22T15:49:12.252432Z",
     "shell.execute_reply": "2022-08-22T15:49:12.251289Z"
    },
    "id": "iRiGpLmsZgxK",
    "outputId": "0ac3e942-3b83-4660-d6d5-c0de25850e62",
    "papermill": {
     "duration": 0.653769,
     "end_time": "2022-08-22T15:49:12.255312",
     "exception": false,
     "start_time": "2022-08-22T15:49:11.601543",
     "status": "completed"
    },
    "tags": []
   },
   "outputs": [
    {
     "data": {
      "image/png": "[encoded data removed]",
      "text/plain": [
       "<Figure size 1008x576 with 4 Axes>"
      ]
     },
     "metadata": {
      "needs_background": "light"
     },
     "output_type": "display_data"
    }
   ],
   "source": [
    "#visualization of Numerical features\n",
    "fig, ax = plt.subplots(2, 2, figsize = (14, 8))\n",
    "sns.boxplot(x = 'Exited', y = 'CreditScore', data = df, ax = ax[0][0],palette='twilight')\n",
    "sns.boxplot(x = 'Exited', y = 'Age', data = df, ax = ax[0][1],palette='twilight')\n",
    "sns.boxplot(x = 'Exited', y = 'Balance', data = df, ax = ax[1][0],palette='twilight')\n",
    "sns.boxplot(x = 'Exited', y = 'EstimatedSalary', data = df, ax = ax[1][1],palette='twilight')\n",
    "\n",
    "ax[0][0].set_title('Credict Score',color='brown',fontsize=15)\n",
    "ax[0][1].set_title('Age',color='brown',fontsize=15)\n",
    "ax[1][0].set_title('Balance',color='brown',fontsize=15)\n",
    "ax[1][1].set_title('Salary',color='brown',fontsize=15)\n",
    "plt.tight_layout()\n",
    "plt.show()"
   ]
  },
  {
   "cell_type": "code",
   "execution_count": 13,
   "id": "dc563f2c",
   "metadata": {
    "execution": {
     "iopub.execute_input": "2022-08-22T15:49:12.294864Z",
     "iopub.status.busy": "2022-08-22T15:49:12.294445Z",
     "iopub.status.idle": "2022-08-22T15:49:12.343906Z",
     "shell.execute_reply": "2022-08-22T15:49:12.342617Z"
    },
    "id": "Gp_Bcfy3dCbV",
    "outputId": "fc43ced1-abc7-4699-8d15-faccd77cd76e",
    "papermill": {
     "duration": 0.072424,
     "end_time": "2022-08-22T15:49:12.346533",
     "exception": false,
     "start_time": "2022-08-22T15:49:12.274109",
     "status": "completed"
    },
    "tags": []
   },
   "outputs": [
    {
     "data": {
      "text/html": [
       "<div>\n",
       "<style scoped>\n",
       "    .dataframe tbody tr th:only-of-type {\n",
       "        vertical-align: middle;\n",
       "    }\n",
       "\n",
       "    .dataframe tbody tr th {\n",
       "        vertical-align: top;\n",
       "    }\n",
       "\n",
       "    .dataframe thead th {\n",
       "        text-align: right;\n",
       "    }\n",
       "</style>\n",
       "<table border=\"1\" class=\"dataframe\">\n",
       "  <thead>\n",
       "    <tr style=\"text-align: right;\">\n",
       "      <th></th>\n",
       "      <th>count</th>\n",
       "      <th>mean</th>\n",
       "      <th>std</th>\n",
       "      <th>min</th>\n",
       "      <th>25%</th>\n",
       "      <th>50%</th>\n",
       "      <th>75%</th>\n",
       "      <th>max</th>\n",
       "    </tr>\n",
       "  </thead>\n",
       "  <tbody>\n",
       "    <tr>\n",
       "      <th>CreditScore</th>\n",
       "      <td>10000.0</td>\n",
       "      <td>650.53</td>\n",
       "      <td>96.65</td>\n",
       "      <td>350.00</td>\n",
       "      <td>584.00</td>\n",
       "      <td>652.00</td>\n",
       "      <td>718.00</td>\n",
       "      <td>850.00</td>\n",
       "    </tr>\n",
       "    <tr>\n",
       "      <th>Age</th>\n",
       "      <td>10000.0</td>\n",
       "      <td>38.92</td>\n",
       "      <td>10.49</td>\n",
       "      <td>18.00</td>\n",
       "      <td>32.00</td>\n",
       "      <td>37.00</td>\n",
       "      <td>44.00</td>\n",
       "      <td>92.00</td>\n",
       "    </tr>\n",
       "    <tr>\n",
       "      <th>Tenure</th>\n",
       "      <td>10000.0</td>\n",
       "      <td>5.01</td>\n",
       "      <td>2.89</td>\n",
       "      <td>0.00</td>\n",
       "      <td>3.00</td>\n",
       "      <td>5.00</td>\n",
       "      <td>7.00</td>\n",
       "      <td>10.00</td>\n",
       "    </tr>\n",
       "    <tr>\n",
       "      <th>Balance</th>\n",
       "      <td>10000.0</td>\n",
       "      <td>76485.89</td>\n",
       "      <td>62397.41</td>\n",
       "      <td>0.00</td>\n",
       "      <td>0.00</td>\n",
       "      <td>97198.54</td>\n",
       "      <td>127644.24</td>\n",
       "      <td>250898.09</td>\n",
       "    </tr>\n",
       "    <tr>\n",
       "      <th>NumOfProducts</th>\n",
       "      <td>10000.0</td>\n",
       "      <td>1.53</td>\n",
       "      <td>0.58</td>\n",
       "      <td>1.00</td>\n",
       "      <td>1.00</td>\n",
       "      <td>1.00</td>\n",
       "      <td>2.00</td>\n",
       "      <td>4.00</td>\n",
       "    </tr>\n",
       "    <tr>\n",
       "      <th>HasCrCard</th>\n",
       "      <td>10000.0</td>\n",
       "      <td>0.71</td>\n",
       "      <td>0.46</td>\n",
       "      <td>0.00</td>\n",
       "      <td>0.00</td>\n",
       "      <td>1.00</td>\n",
       "      <td>1.00</td>\n",
       "      <td>1.00</td>\n",
       "    </tr>\n",
       "    <tr>\n",
       "      <th>IsActiveMember</th>\n",
       "      <td>10000.0</td>\n",
       "      <td>0.52</td>\n",
       "      <td>0.50</td>\n",
       "      <td>0.00</td>\n",
       "      <td>0.00</td>\n",
       "      <td>1.00</td>\n",
       "      <td>1.00</td>\n",
       "      <td>1.00</td>\n",
       "    </tr>\n",
       "    <tr>\n",
       "      <th>EstimatedSalary</th>\n",
       "      <td>10000.0</td>\n",
       "      <td>100090.24</td>\n",
       "      <td>57510.49</td>\n",
       "      <td>11.58</td>\n",
       "      <td>51002.11</td>\n",
       "      <td>100193.92</td>\n",
       "      <td>149388.25</td>\n",
       "      <td>199992.48</td>\n",
       "    </tr>\n",
       "    <tr>\n",
       "      <th>Exited</th>\n",
       "      <td>10000.0</td>\n",
       "      <td>0.20</td>\n",
       "      <td>0.40</td>\n",
       "      <td>0.00</td>\n",
       "      <td>0.00</td>\n",
       "      <td>0.00</td>\n",
       "      <td>0.00</td>\n",
       "      <td>1.00</td>\n",
       "    </tr>\n",
       "  </tbody>\n",
       "</table>\n",
       "</div>"
      ],
      "text/plain": [
       "                   count       mean       std     min       25%        50%  \\\n",
       "CreditScore      10000.0     650.53     96.65  350.00    584.00     652.00   \n",
       "Age              10000.0      38.92     10.49   18.00     32.00      37.00   \n",
       "Tenure           10000.0       5.01      2.89    0.00      3.00       5.00   \n",
       "Balance          10000.0   76485.89  62397.41    0.00      0.00   97198.54   \n",
       "NumOfProducts    10000.0       1.53      0.58    1.00      1.00       1.00   \n",
       "HasCrCard        10000.0       0.71      0.46    0.00      0.00       1.00   \n",
       "IsActiveMember   10000.0       0.52      0.50    0.00      0.00       1.00   \n",
       "EstimatedSalary  10000.0  100090.24  57510.49   11.58  51002.11  100193.92   \n",
       "Exited           10000.0       0.20      0.40    0.00      0.00       0.00   \n",
       "\n",
       "                       75%        max  \n",
       "CreditScore         718.00     850.00  \n",
       "Age                  44.00      92.00  \n",
       "Tenure                7.00      10.00  \n",
       "Balance          127644.24  250898.09  \n",
       "NumOfProducts         2.00       4.00  \n",
       "HasCrCard             1.00       1.00  \n",
       "IsActiveMember        1.00       1.00  \n",
       "EstimatedSalary  149388.25  199992.48  \n",
       "Exited                0.00       1.00  "
      ]
     },
     "execution_count": 13,
     "metadata": {},
     "output_type": "execute_result"
    }
   ],
   "source": [
    "#statistical info of df\n",
    "df.describe().T.round(2)"
   ]
  },
  {
   "cell_type": "code",
   "execution_count": 14,
   "id": "ebc182f5",
   "metadata": {
    "execution": {
     "iopub.execute_input": "2022-08-22T15:49:12.387874Z",
     "iopub.status.busy": "2022-08-22T15:49:12.387425Z",
     "iopub.status.idle": "2022-08-22T15:49:12.631122Z",
     "shell.execute_reply": "2022-08-22T15:49:12.629957Z"
    },
    "id": "UA3Qk1LDdChT",
    "outputId": "d47784f6-b6c8-4f25-e9dd-4410b9926e7d",
    "papermill": {
     "duration": 0.267109,
     "end_time": "2022-08-22T15:49:12.633634",
     "exception": false,
     "start_time": "2022-08-22T15:49:12.366525",
     "status": "completed"
    },
    "tags": []
   },
   "outputs": [
    {
     "data": {
      "image/png": "[encoded data removed]",
      "text/plain": [
       "<Figure size 720x504 with 1 Axes>"
      ]
     },
     "metadata": {
      "needs_background": "light"
     },
     "output_type": "display_data"
    }
   ],
   "source": [
    "#correlation with target column\n",
    "plt.figure(figsize=(10,7))\n",
    "df.corr()['Exited'].sort_values().drop('Exited').plot(kind='barh')\n",
    "plt.grid(True)\n",
    "plt.show()"
   ]
  },
  {
   "cell_type": "code",
   "execution_count": 15,
   "id": "cada33cb",
   "metadata": {
    "execution": {
     "iopub.execute_input": "2022-08-22T15:49:12.674347Z",
     "iopub.status.busy": "2022-08-22T15:49:12.673961Z",
     "iopub.status.idle": "2022-08-22T15:49:12.687430Z",
     "shell.execute_reply": "2022-08-22T15:49:12.685949Z"
    },
    "id": "9W8DhS4EdCjt",
    "outputId": "9b17551e-569d-4606-aee7-a95f819f9ad0",
    "papermill": {
     "duration": 0.036878,
     "end_time": "2022-08-22T15:49:12.689972",
     "exception": false,
     "start_time": "2022-08-22T15:49:12.653094",
     "status": "completed"
    },
    "tags": []
   },
   "outputs": [
    {
     "data": {
      "text/plain": [
       "IsActiveMember    -0.156128\n",
       "NumOfProducts     -0.047820\n",
       "CreditScore       -0.027094\n",
       "Tenure            -0.014001\n",
       "HasCrCard         -0.007138\n",
       "EstimatedSalary    0.012097\n",
       "Balance            0.118533\n",
       "Age                0.285323\n",
       "Name: Exited, dtype: float64"
      ]
     },
     "execution_count": 15,
     "metadata": {},
     "output_type": "execute_result"
    }
   ],
   "source": [
    "df.corr()['Exited'].sort_values().drop('Exited')"
   ]
  },
  {
   "cell_type": "markdown",
   "id": "e1c6f648",
   "metadata": {
    "papermill": {
     "duration": 0.019226,
     "end_time": "2022-08-22T15:49:12.728969",
     "exception": false,
     "start_time": "2022-08-22T15:49:12.709743",
     "status": "completed"
    },
    "tags": []
   },
   "source": [
    "## Correlation-HeatMap"
   ]
  },
  {
   "cell_type": "code",
   "execution_count": 16,
   "id": "d3b6218b",
   "metadata": {
    "execution": {
     "iopub.execute_input": "2022-08-22T15:49:12.769970Z",
     "iopub.status.busy": "2022-08-22T15:49:12.769520Z",
     "iopub.status.idle": "2022-08-22T15:49:13.430351Z",
     "shell.execute_reply": "2022-08-22T15:49:13.429337Z"
    },
    "id": "NUpB8SO-dCmM",
    "outputId": "e4162ec7-f1ad-41a3-eb42-cb09c3f5dd86",
    "papermill": {
     "duration": 0.684051,
     "end_time": "2022-08-22T15:49:13.432674",
     "exception": false,
     "start_time": "2022-08-22T15:49:12.748623",
     "status": "completed"
    },
    "tags": []
   },
   "outputs": [
    {
     "data": {
      "image/png": "[encoded data removed]",
      "text/plain": [
       "<Figure size 720x504 with 2 Axes>"
      ]
     },
     "metadata": {
      "needs_background": "light"
     },
     "output_type": "display_data"
    }
   ],
   "source": [
    "#HeatMap\n",
    "plt.figure(figsize=(10,7))\n",
    "sns.heatmap(df.corr(),annot=True,cmap='coolwarm')\n",
    "plt.show()"
   ]
  },
  {
   "cell_type": "code",
   "execution_count": 17,
   "id": "433cfb4d",
   "metadata": {
    "execution": {
     "iopub.execute_input": "2022-08-22T15:49:13.476550Z",
     "iopub.status.busy": "2022-08-22T15:49:13.475492Z",
     "iopub.status.idle": "2022-08-22T15:49:13.492364Z",
     "shell.execute_reply": "2022-08-22T15:49:13.491505Z"
    },
    "id": "j4Te-sPJdCoz",
    "outputId": "6180acd1-2c5f-4a0b-da6d-4e5928f18645",
    "papermill": {
     "duration": 0.040857,
     "end_time": "2022-08-22T15:49:13.494427",
     "exception": false,
     "start_time": "2022-08-22T15:49:13.453570",
     "status": "completed"
    },
    "tags": []
   },
   "outputs": [
    {
     "data": {
      "text/html": [
       "<div>\n",
       "<style scoped>\n",
       "    .dataframe tbody tr th:only-of-type {\n",
       "        vertical-align: middle;\n",
       "    }\n",
       "\n",
       "    .dataframe tbody tr th {\n",
       "        vertical-align: top;\n",
       "    }\n",
       "\n",
       "    .dataframe thead th {\n",
       "        text-align: right;\n",
       "    }\n",
       "</style>\n",
       "<table border=\"1\" class=\"dataframe\">\n",
       "  <thead>\n",
       "    <tr style=\"text-align: right;\">\n",
       "      <th></th>\n",
       "      <th>CreditScore</th>\n",
       "      <th>Geography</th>\n",
       "      <th>Gender</th>\n",
       "      <th>Age</th>\n",
       "      <th>Tenure</th>\n",
       "      <th>Balance</th>\n",
       "      <th>NumOfProducts</th>\n",
       "      <th>HasCrCard</th>\n",
       "      <th>IsActiveMember</th>\n",
       "      <th>EstimatedSalary</th>\n",
       "      <th>Exited</th>\n",
       "    </tr>\n",
       "  </thead>\n",
       "  <tbody>\n",
       "    <tr>\n",
       "      <th>0</th>\n",
       "      <td>619</td>\n",
       "      <td>France</td>\n",
       "      <td>Female</td>\n",
       "      <td>42</td>\n",
       "      <td>2</td>\n",
       "      <td>0.00</td>\n",
       "      <td>1</td>\n",
       "      <td>1</td>\n",
       "      <td>1</td>\n",
       "      <td>101348.88</td>\n",
       "      <td>1</td>\n",
       "    </tr>\n",
       "    <tr>\n",
       "      <th>1</th>\n",
       "      <td>608</td>\n",
       "      <td>Spain</td>\n",
       "      <td>Female</td>\n",
       "      <td>41</td>\n",
       "      <td>1</td>\n",
       "      <td>83807.86</td>\n",
       "      <td>1</td>\n",
       "      <td>0</td>\n",
       "      <td>1</td>\n",
       "      <td>112542.58</td>\n",
       "      <td>0</td>\n",
       "    </tr>\n",
       "    <tr>\n",
       "      <th>2</th>\n",
       "      <td>502</td>\n",
       "      <td>France</td>\n",
       "      <td>Female</td>\n",
       "      <td>42</td>\n",
       "      <td>8</td>\n",
       "      <td>159660.80</td>\n",
       "      <td>3</td>\n",
       "      <td>1</td>\n",
       "      <td>0</td>\n",
       "      <td>113931.57</td>\n",
       "      <td>1</td>\n",
       "    </tr>\n",
       "    <tr>\n",
       "      <th>3</th>\n",
       "      <td>699</td>\n",
       "      <td>France</td>\n",
       "      <td>Female</td>\n",
       "      <td>39</td>\n",
       "      <td>1</td>\n",
       "      <td>0.00</td>\n",
       "      <td>2</td>\n",
       "      <td>0</td>\n",
       "      <td>0</td>\n",
       "      <td>93826.63</td>\n",
       "      <td>0</td>\n",
       "    </tr>\n",
       "    <tr>\n",
       "      <th>4</th>\n",
       "      <td>850</td>\n",
       "      <td>Spain</td>\n",
       "      <td>Female</td>\n",
       "      <td>43</td>\n",
       "      <td>2</td>\n",
       "      <td>125510.82</td>\n",
       "      <td>1</td>\n",
       "      <td>1</td>\n",
       "      <td>1</td>\n",
       "      <td>79084.10</td>\n",
       "      <td>0</td>\n",
       "    </tr>\n",
       "  </tbody>\n",
       "</table>\n",
       "</div>"
      ],
      "text/plain": [
       "   CreditScore Geography  Gender  Age  Tenure    Balance  NumOfProducts  \\\n",
       "0          619    France  Female   42       2       0.00              1   \n",
       "1          608     Spain  Female   41       1   83807.86              1   \n",
       "2          502    France  Female   42       8  159660.80              3   \n",
       "3          699    France  Female   39       1       0.00              2   \n",
       "4          850     Spain  Female   43       2  125510.82              1   \n",
       "\n",
       "   HasCrCard  IsActiveMember  EstimatedSalary  Exited  \n",
       "0          1               1        101348.88       1  \n",
       "1          0               1        112542.58       0  \n",
       "2          1               0        113931.57       1  \n",
       "3          0               0         93826.63       0  \n",
       "4          1               1         79084.10       0  "
      ]
     },
     "execution_count": 17,
     "metadata": {},
     "output_type": "execute_result"
    }
   ],
   "source": [
    "df.head()"
   ]
  },
  {
   "cell_type": "markdown",
   "id": "bef73561",
   "metadata": {
    "papermill": {
     "duration": 0.020249,
     "end_time": "2022-08-22T15:49:13.577230",
     "exception": false,
     "start_time": "2022-08-22T15:49:13.556981",
     "status": "completed"
    },
    "tags": []
   },
   "source": [
    "## Label Encoding "
   ]
  },
  {
   "cell_type": "code",
   "execution_count": 18,
   "id": "cbc61099",
   "metadata": {
    "execution": {
     "iopub.execute_input": "2022-08-22T15:49:13.620991Z",
     "iopub.status.busy": "2022-08-22T15:49:13.619834Z",
     "iopub.status.idle": "2022-08-22T15:49:13.630721Z",
     "shell.execute_reply": "2022-08-22T15:49:13.629672Z"
    },
    "id": "m_OnJ-B-ZRAV",
    "papermill": {
     "duration": 0.035552,
     "end_time": "2022-08-22T15:49:13.633408",
     "exception": false,
     "start_time": "2022-08-22T15:49:13.597856",
     "status": "completed"
    },
    "tags": []
   },
   "outputs": [],
   "source": [
    "#Label Encoding of Categ features\n",
    "df['Geography']=df['Geography'].map({'France':0,'Spain':1,'Germany':2})\n",
    "df['Gender']=df['Gender'].map({'Male':0,'Female':1})"
   ]
  },
  {
   "cell_type": "code",
   "execution_count": 19,
   "id": "d747e3d0",
   "metadata": {
    "execution": {
     "iopub.execute_input": "2022-08-22T15:49:13.677592Z",
     "iopub.status.busy": "2022-08-22T15:49:13.677193Z",
     "iopub.status.idle": "2022-08-22T15:49:13.692826Z",
     "shell.execute_reply": "2022-08-22T15:49:13.691703Z"
    },
    "id": "fNs0hmrNS_Nv",
    "outputId": "b22ad7b4-9451-4cb3-ce76-4b8167048945",
    "papermill": {
     "duration": 0.040764,
     "end_time": "2022-08-22T15:49:13.695241",
     "exception": false,
     "start_time": "2022-08-22T15:49:13.654477",
     "status": "completed"
    },
    "tags": []
   },
   "outputs": [
    {
     "data": {
      "text/html": [
       "<div>\n",
       "<style scoped>\n",
       "    .dataframe tbody tr th:only-of-type {\n",
       "        vertical-align: middle;\n",
       "    }\n",
       "\n",
       "    .dataframe tbody tr th {\n",
       "        vertical-align: top;\n",
       "    }\n",
       "\n",
       "    .dataframe thead th {\n",
       "        text-align: right;\n",
       "    }\n",
       "</style>\n",
       "<table border=\"1\" class=\"dataframe\">\n",
       "  <thead>\n",
       "    <tr style=\"text-align: right;\">\n",
       "      <th></th>\n",
       "      <th>CreditScore</th>\n",
       "      <th>Geography</th>\n",
       "      <th>Gender</th>\n",
       "      <th>Age</th>\n",
       "      <th>Tenure</th>\n",
       "      <th>Balance</th>\n",
       "      <th>NumOfProducts</th>\n",
       "      <th>HasCrCard</th>\n",
       "      <th>IsActiveMember</th>\n",
       "      <th>EstimatedSalary</th>\n",
       "      <th>Exited</th>\n",
       "    </tr>\n",
       "  </thead>\n",
       "  <tbody>\n",
       "    <tr>\n",
       "      <th>0</th>\n",
       "      <td>619</td>\n",
       "      <td>0</td>\n",
       "      <td>1</td>\n",
       "      <td>42</td>\n",
       "      <td>2</td>\n",
       "      <td>0.00</td>\n",
       "      <td>1</td>\n",
       "      <td>1</td>\n",
       "      <td>1</td>\n",
       "      <td>101348.88</td>\n",
       "      <td>1</td>\n",
       "    </tr>\n",
       "    <tr>\n",
       "      <th>1</th>\n",
       "      <td>608</td>\n",
       "      <td>1</td>\n",
       "      <td>1</td>\n",
       "      <td>41</td>\n",
       "      <td>1</td>\n",
       "      <td>83807.86</td>\n",
       "      <td>1</td>\n",
       "      <td>0</td>\n",
       "      <td>1</td>\n",
       "      <td>112542.58</td>\n",
       "      <td>0</td>\n",
       "    </tr>\n",
       "    <tr>\n",
       "      <th>2</th>\n",
       "      <td>502</td>\n",
       "      <td>0</td>\n",
       "      <td>1</td>\n",
       "      <td>42</td>\n",
       "      <td>8</td>\n",
       "      <td>159660.80</td>\n",
       "      <td>3</td>\n",
       "      <td>1</td>\n",
       "      <td>0</td>\n",
       "      <td>113931.57</td>\n",
       "      <td>1</td>\n",
       "    </tr>\n",
       "    <tr>\n",
       "      <th>3</th>\n",
       "      <td>699</td>\n",
       "      <td>0</td>\n",
       "      <td>1</td>\n",
       "      <td>39</td>\n",
       "      <td>1</td>\n",
       "      <td>0.00</td>\n",
       "      <td>2</td>\n",
       "      <td>0</td>\n",
       "      <td>0</td>\n",
       "      <td>93826.63</td>\n",
       "      <td>0</td>\n",
       "    </tr>\n",
       "    <tr>\n",
       "      <th>4</th>\n",
       "      <td>850</td>\n",
       "      <td>1</td>\n",
       "      <td>1</td>\n",
       "      <td>43</td>\n",
       "      <td>2</td>\n",
       "      <td>125510.82</td>\n",
       "      <td>1</td>\n",
       "      <td>1</td>\n",
       "      <td>1</td>\n",
       "      <td>79084.10</td>\n",
       "      <td>0</td>\n",
       "    </tr>\n",
       "  </tbody>\n",
       "</table>\n",
       "</div>"
      ],
      "text/plain": [
       "   CreditScore  Geography  Gender  Age  Tenure    Balance  NumOfProducts  \\\n",
       "0          619          0       1   42       2       0.00              1   \n",
       "1          608          1       1   41       1   83807.86              1   \n",
       "2          502          0       1   42       8  159660.80              3   \n",
       "3          699          0       1   39       1       0.00              2   \n",
       "4          850          1       1   43       2  125510.82              1   \n",
       "\n",
       "   HasCrCard  IsActiveMember  EstimatedSalary  Exited  \n",
       "0          1               1        101348.88       1  \n",
       "1          0               1        112542.58       0  \n",
       "2          1               0        113931.57       1  \n",
       "3          0               0         93826.63       0  \n",
       "4          1               1         79084.10       0  "
      ]
     },
     "execution_count": 19,
     "metadata": {},
     "output_type": "execute_result"
    }
   ],
   "source": [
    "df.head()"
   ]
  },
  {
   "cell_type": "markdown",
   "id": "7a66c5a2",
   "metadata": {
    "papermill": {
     "duration": 0.021255,
     "end_time": "2022-08-22T15:49:13.737664",
     "exception": false,
     "start_time": "2022-08-22T15:49:13.716409",
     "status": "completed"
    },
    "tags": []
   },
   "source": [
    "## Input & Output Selection"
   ]
  },
  {
   "cell_type": "code",
   "execution_count": 20,
   "id": "14d993a8",
   "metadata": {
    "execution": {
     "iopub.execute_input": "2022-08-22T15:49:13.781672Z",
     "iopub.status.busy": "2022-08-22T15:49:13.781284Z",
     "iopub.status.idle": "2022-08-22T15:49:13.788450Z",
     "shell.execute_reply": "2022-08-22T15:49:13.787430Z"
    },
    "id": "2pFllym4TC2H",
    "papermill": {
     "duration": 0.032129,
     "end_time": "2022-08-22T15:49:13.790921",
     "exception": false,
     "start_time": "2022-08-22T15:49:13.758792",
     "status": "completed"
    },
    "tags": []
   },
   "outputs": [],
   "source": [
    "#Input & Output selection\n",
    "X=df.drop('Exited',axis=1)\n",
    "Y=df['Exited']"
   ]
  },
  {
   "cell_type": "code",
   "execution_count": 21,
   "id": "8b048f8a",
   "metadata": {
    "execution": {
     "iopub.execute_input": "2022-08-22T15:49:13.835833Z",
     "iopub.status.busy": "2022-08-22T15:49:13.835430Z",
     "iopub.status.idle": "2022-08-22T15:49:13.855503Z",
     "shell.execute_reply": "2022-08-22T15:49:13.854430Z"
    },
    "id": "dngQDBUzTC4_",
    "outputId": "b3545bfe-bed6-4565-a1ed-47672fcdf616",
    "papermill": {
     "duration": 0.045031,
     "end_time": "2022-08-22T15:49:13.857790",
     "exception": false,
     "start_time": "2022-08-22T15:49:13.812759",
     "status": "completed"
    },
    "tags": []
   },
   "outputs": [
    {
     "data": {
      "text/html": [
       "<div>\n",
       "<style scoped>\n",
       "    .dataframe tbody tr th:only-of-type {\n",
       "        vertical-align: middle;\n",
       "    }\n",
       "\n",
       "    .dataframe tbody tr th {\n",
       "        vertical-align: top;\n",
       "    }\n",
       "\n",
       "    .dataframe thead th {\n",
       "        text-align: right;\n",
       "    }\n",
       "</style>\n",
       "<table border=\"1\" class=\"dataframe\">\n",
       "  <thead>\n",
       "    <tr style=\"text-align: right;\">\n",
       "      <th></th>\n",
       "      <th>CreditScore</th>\n",
       "      <th>Geography</th>\n",
       "      <th>Gender</th>\n",
       "      <th>Age</th>\n",
       "      <th>Tenure</th>\n",
       "      <th>Balance</th>\n",
       "      <th>NumOfProducts</th>\n",
       "      <th>HasCrCard</th>\n",
       "      <th>IsActiveMember</th>\n",
       "      <th>EstimatedSalary</th>\n",
       "    </tr>\n",
       "  </thead>\n",
       "  <tbody>\n",
       "    <tr>\n",
       "      <th>0</th>\n",
       "      <td>619</td>\n",
       "      <td>0</td>\n",
       "      <td>1</td>\n",
       "      <td>42</td>\n",
       "      <td>2</td>\n",
       "      <td>0.00</td>\n",
       "      <td>1</td>\n",
       "      <td>1</td>\n",
       "      <td>1</td>\n",
       "      <td>101348.88</td>\n",
       "    </tr>\n",
       "    <tr>\n",
       "      <th>1</th>\n",
       "      <td>608</td>\n",
       "      <td>1</td>\n",
       "      <td>1</td>\n",
       "      <td>41</td>\n",
       "      <td>1</td>\n",
       "      <td>83807.86</td>\n",
       "      <td>1</td>\n",
       "      <td>0</td>\n",
       "      <td>1</td>\n",
       "      <td>112542.58</td>\n",
       "    </tr>\n",
       "    <tr>\n",
       "      <th>2</th>\n",
       "      <td>502</td>\n",
       "      <td>0</td>\n",
       "      <td>1</td>\n",
       "      <td>42</td>\n",
       "      <td>8</td>\n",
       "      <td>159660.80</td>\n",
       "      <td>3</td>\n",
       "      <td>1</td>\n",
       "      <td>0</td>\n",
       "      <td>113931.57</td>\n",
       "    </tr>\n",
       "    <tr>\n",
       "      <th>3</th>\n",
       "      <td>699</td>\n",
       "      <td>0</td>\n",
       "      <td>1</td>\n",
       "      <td>39</td>\n",
       "      <td>1</td>\n",
       "      <td>0.00</td>\n",
       "      <td>2</td>\n",
       "      <td>0</td>\n",
       "      <td>0</td>\n",
       "      <td>93826.63</td>\n",
       "    </tr>\n",
       "    <tr>\n",
       "      <th>4</th>\n",
       "      <td>850</td>\n",
       "      <td>1</td>\n",
       "      <td>1</td>\n",
       "      <td>43</td>\n",
       "      <td>2</td>\n",
       "      <td>125510.82</td>\n",
       "      <td>1</td>\n",
       "      <td>1</td>\n",
       "      <td>1</td>\n",
       "      <td>79084.10</td>\n",
       "    </tr>\n",
       "    <tr>\n",
       "      <th>...</th>\n",
       "      <td>...</td>\n",
       "      <td>...</td>\n",
       "      <td>...</td>\n",
       "      <td>...</td>\n",
       "      <td>...</td>\n",
       "      <td>...</td>\n",
       "      <td>...</td>\n",
       "      <td>...</td>\n",
       "      <td>...</td>\n",
       "      <td>...</td>\n",
       "    </tr>\n",
       "    <tr>\n",
       "      <th>9995</th>\n",
       "      <td>771</td>\n",
       "      <td>0</td>\n",
       "      <td>0</td>\n",
       "      <td>39</td>\n",
       "      <td>5</td>\n",
       "      <td>0.00</td>\n",
       "      <td>2</td>\n",
       "      <td>1</td>\n",
       "      <td>0</td>\n",
       "      <td>96270.64</td>\n",
       "    </tr>\n",
       "    <tr>\n",
       "      <th>9996</th>\n",
       "      <td>516</td>\n",
       "      <td>0</td>\n",
       "      <td>0</td>\n",
       "      <td>35</td>\n",
       "      <td>10</td>\n",
       "      <td>57369.61</td>\n",
       "      <td>1</td>\n",
       "      <td>1</td>\n",
       "      <td>1</td>\n",
       "      <td>101699.77</td>\n",
       "    </tr>\n",
       "    <tr>\n",
       "      <th>9997</th>\n",
       "      <td>709</td>\n",
       "      <td>0</td>\n",
       "      <td>1</td>\n",
       "      <td>36</td>\n",
       "      <td>7</td>\n",
       "      <td>0.00</td>\n",
       "      <td>1</td>\n",
       "      <td>0</td>\n",
       "      <td>1</td>\n",
       "      <td>42085.58</td>\n",
       "    </tr>\n",
       "    <tr>\n",
       "      <th>9998</th>\n",
       "      <td>772</td>\n",
       "      <td>2</td>\n",
       "      <td>0</td>\n",
       "      <td>42</td>\n",
       "      <td>3</td>\n",
       "      <td>75075.31</td>\n",
       "      <td>2</td>\n",
       "      <td>1</td>\n",
       "      <td>0</td>\n",
       "      <td>92888.52</td>\n",
       "    </tr>\n",
       "    <tr>\n",
       "      <th>9999</th>\n",
       "      <td>792</td>\n",
       "      <td>0</td>\n",
       "      <td>1</td>\n",
       "      <td>28</td>\n",
       "      <td>4</td>\n",
       "      <td>130142.79</td>\n",
       "      <td>1</td>\n",
       "      <td>1</td>\n",
       "      <td>0</td>\n",
       "      <td>38190.78</td>\n",
       "    </tr>\n",
       "  </tbody>\n",
       "</table>\n",
       "<p>10000 rows × 10 columns</p>\n",
       "</div>"
      ],
      "text/plain": [
       "      CreditScore  Geography  Gender  Age  Tenure    Balance  NumOfProducts  \\\n",
       "0             619          0       1   42       2       0.00              1   \n",
       "1             608          1       1   41       1   83807.86              1   \n",
       "2             502          0       1   42       8  159660.80              3   \n",
       "3             699          0       1   39       1       0.00              2   \n",
       "4             850          1       1   43       2  125510.82              1   \n",
       "...           ...        ...     ...  ...     ...        ...            ...   \n",
       "9995          771          0       0   39       5       0.00              2   \n",
       "9996          516          0       0   35      10   57369.61              1   \n",
       "9997          709          0       1   36       7       0.00              1   \n",
       "9998          772          2       0   42       3   75075.31              2   \n",
       "9999          792          0       1   28       4  130142.79              1   \n",
       "\n",
       "      HasCrCard  IsActiveMember  EstimatedSalary  \n",
       "0             1               1        101348.88  \n",
       "1             0               1        112542.58  \n",
       "2             1               0        113931.57  \n",
       "3             0               0         93826.63  \n",
       "4             1               1         79084.10  \n",
       "...         ...             ...              ...  \n",
       "9995          1               0         96270.64  \n",
       "9996          1               1        101699.77  \n",
       "9997          0               1         42085.58  \n",
       "9998          1               0         92888.52  \n",
       "9999          1               0         38190.78  \n",
       "\n",
       "[10000 rows x 10 columns]"
      ]
     },
     "execution_count": 21,
     "metadata": {},
     "output_type": "execute_result"
    }
   ],
   "source": [
    "X"
   ]
  },
  {
   "cell_type": "markdown",
   "id": "6b713a15",
   "metadata": {
    "papermill": {
     "duration": 0.022451,
     "end_time": "2022-08-22T15:49:13.903709",
     "exception": false,
     "start_time": "2022-08-22T15:49:13.881258",
     "status": "completed"
    },
    "tags": []
   },
   "source": [
    "## Train-Test Split"
   ]
  },
  {
   "cell_type": "code",
   "execution_count": 22,
   "id": "670b4ecf",
   "metadata": {
    "execution": {
     "iopub.execute_input": "2022-08-22T15:49:13.948051Z",
     "iopub.status.busy": "2022-08-22T15:49:13.947621Z",
     "iopub.status.idle": "2022-08-22T15:49:14.192638Z",
     "shell.execute_reply": "2022-08-22T15:49:14.191542Z"
    },
    "id": "cnYnEfiUTC7-",
    "papermill": {
     "duration": 0.270365,
     "end_time": "2022-08-22T15:49:14.195411",
     "exception": false,
     "start_time": "2022-08-22T15:49:13.925046",
     "status": "completed"
    },
    "tags": []
   },
   "outputs": [],
   "source": [
    "#train test split\n",
    "from sklearn.model_selection import train_test_split\n",
    "X_train,X_test,Y_train,Y_test=train_test_split(X,Y,test_size=0.3,random_state=12,stratify=Y)"
   ]
  },
  {
   "cell_type": "code",
   "execution_count": 23,
   "id": "47f18042",
   "metadata": {
    "execution": {
     "iopub.execute_input": "2022-08-22T15:49:14.243910Z",
     "iopub.status.busy": "2022-08-22T15:49:14.242589Z",
     "iopub.status.idle": "2022-08-22T15:49:14.250688Z",
     "shell.execute_reply": "2022-08-22T15:49:14.249299Z"
    },
    "papermill": {
     "duration": 0.035705,
     "end_time": "2022-08-22T15:49:14.253133",
     "exception": false,
     "start_time": "2022-08-22T15:49:14.217428",
     "status": "completed"
    },
    "tags": []
   },
   "outputs": [
    {
     "data": {
      "text/plain": [
       "((7000, 10), (3000, 10), (7000,), (3000,))"
      ]
     },
     "execution_count": 23,
     "metadata": {},
     "output_type": "execute_result"
    }
   ],
   "source": [
    "X_train.shape,X_test.shape,Y_train.shape,Y_test.shape"
   ]
  },
  {
   "cell_type": "code",
   "execution_count": 24,
   "id": "f261d28d",
   "metadata": {
    "execution": {
     "iopub.execute_input": "2022-08-22T15:49:14.299108Z",
     "iopub.status.busy": "2022-08-22T15:49:14.297686Z",
     "iopub.status.idle": "2022-08-22T15:49:14.306047Z",
     "shell.execute_reply": "2022-08-22T15:49:14.304475Z"
    },
    "id": "_ZI83kAQTC--",
    "outputId": "678865a4-b055-473e-c693-462891580a17",
    "papermill": {
     "duration": 0.033544,
     "end_time": "2022-08-22T15:49:14.308269",
     "exception": false,
     "start_time": "2022-08-22T15:49:14.274725",
     "status": "completed"
    },
    "tags": []
   },
   "outputs": [
    {
     "name": "stdout",
     "output_type": "stream",
     "text": [
      "3.908835904628331\n"
     ]
    }
   ],
   "source": [
    "Y_train.value_counts()\n",
    "print(5574/1426)"
   ]
  },
  {
   "cell_type": "code",
   "execution_count": 25,
   "id": "aa5ff751",
   "metadata": {
    "execution": {
     "iopub.execute_input": "2022-08-22T15:49:14.354593Z",
     "iopub.status.busy": "2022-08-22T15:49:14.353920Z",
     "iopub.status.idle": "2022-08-22T15:49:14.360846Z",
     "shell.execute_reply": "2022-08-22T15:49:14.359452Z"
    },
    "id": "819wHbhYTDB3",
    "outputId": "96d5378e-2cfe-4e40-9b71-d9128ec675df",
    "papermill": {
     "duration": 0.032482,
     "end_time": "2022-08-22T15:49:14.363104",
     "exception": false,
     "start_time": "2022-08-22T15:49:14.330622",
     "status": "completed"
    },
    "tags": []
   },
   "outputs": [
    {
     "name": "stdout",
     "output_type": "stream",
     "text": [
      "3.909983633387889\n"
     ]
    }
   ],
   "source": [
    "Y_test.value_counts()\n",
    "print(2389/611)"
   ]
  },
  {
   "cell_type": "markdown",
   "id": "de6f9dd4",
   "metadata": {
    "papermill": {
     "duration": 0.021394,
     "end_time": "2022-08-22T15:49:14.406196",
     "exception": false,
     "start_time": "2022-08-22T15:49:14.384802",
     "status": "completed"
    },
    "tags": []
   },
   "source": [
    "## Scaling "
   ]
  },
  {
   "cell_type": "code",
   "execution_count": 26,
   "id": "2d172a36",
   "metadata": {
    "execution": {
     "iopub.execute_input": "2022-08-22T15:49:14.452588Z",
     "iopub.status.busy": "2022-08-22T15:49:14.451926Z",
     "iopub.status.idle": "2022-08-22T15:49:14.465514Z",
     "shell.execute_reply": "2022-08-22T15:49:14.464404Z"
    },
    "id": "ykR9AabiVQX_",
    "papermill": {
     "duration": 0.039978,
     "end_time": "2022-08-22T15:49:14.468312",
     "exception": false,
     "start_time": "2022-08-22T15:49:14.428334",
     "status": "completed"
    },
    "tags": []
   },
   "outputs": [],
   "source": [
    "#scaling \n",
    "from sklearn.preprocessing import StandardScaler\n",
    "ss=StandardScaler()\n",
    "X_train=ss.fit_transform(X_train)\n",
    "X_test=ss.transform(X_test)"
   ]
  },
  {
   "cell_type": "code",
   "execution_count": 27,
   "id": "13118046",
   "metadata": {
    "execution": {
     "iopub.execute_input": "2022-08-22T15:49:14.514947Z",
     "iopub.status.busy": "2022-08-22T15:49:14.514516Z",
     "iopub.status.idle": "2022-08-22T15:49:14.522086Z",
     "shell.execute_reply": "2022-08-22T15:49:14.520893Z"
    },
    "id": "0UOA7b5sVQae",
    "outputId": "f5f83c32-4934-4e34-f5ca-f8d11926acf6",
    "papermill": {
     "duration": 0.033223,
     "end_time": "2022-08-22T15:49:14.524312",
     "exception": false,
     "start_time": "2022-08-22T15:49:14.491089",
     "status": "completed"
    },
    "tags": []
   },
   "outputs": [
    {
     "data": {
      "text/plain": [
       "array([[-2.03316213, -0.89904091,  1.09066618, ..., -1.56687074,\n",
       "        -1.03016917,  0.69493425],\n",
       "       [ 0.97977277,  1.50756955, -0.91687083, ...,  0.63821474,\n",
       "         0.97071435,  0.6852219 ],\n",
       "       [-0.16701906, -0.89904091, -0.91687083, ...,  0.63821474,\n",
       "        -1.03016917,  1.06135618],\n",
       "       ...,\n",
       "       [ 1.32381032, -0.89904091,  1.09066618, ..., -1.56687074,\n",
       "        -1.03016917,  1.37906669],\n",
       "       [ 2.0744377 , -0.89904091, -0.91687083, ..., -1.56687074,\n",
       "        -1.03016917, -1.29480874],\n",
       "       [-0.10446678, -0.89904091, -0.91687083, ...,  0.63821474,\n",
       "        -1.03016917, -1.17859385]])"
      ]
     },
     "execution_count": 27,
     "metadata": {},
     "output_type": "execute_result"
    }
   ],
   "source": [
    "X_train"
   ]
  },
  {
   "cell_type": "markdown",
   "id": "8bb62c1f",
   "metadata": {
    "papermill": {
     "duration": 0.021783,
     "end_time": "2022-08-22T15:49:14.611811",
     "exception": false,
     "start_time": "2022-08-22T15:49:14.590028",
     "status": "completed"
    },
    "tags": []
   },
   "source": [
    "## Build ANN"
   ]
  },
  {
   "cell_type": "code",
   "execution_count": 28,
   "id": "0a5f4020",
   "metadata": {
    "execution": {
     "iopub.execute_input": "2022-08-22T15:49:14.658993Z",
     "iopub.status.busy": "2022-08-22T15:49:14.658319Z",
     "iopub.status.idle": "2022-08-22T15:49:15.902492Z",
     "shell.execute_reply": "2022-08-22T15:49:15.901349Z"
    },
    "id": "PDuNgmBcVQdW",
    "papermill": {
     "duration": 1.270654,
     "end_time": "2022-08-22T15:49:15.905283",
     "exception": false,
     "start_time": "2022-08-22T15:49:14.634629",
     "status": "completed"
    },
    "tags": []
   },
   "outputs": [],
   "source": [
    "import tensorflow as tf\n",
    "from tensorflow.keras.models import Sequential\n",
    "from tensorflow.keras.layers import Dense, Activation\n",
    "from tensorflow.keras.callbacks import EarlyStopping\n",
    "from tensorflow.keras.optimizers import Adam\n",
    "from tensorflow.keras.layers import Dropout\n",
    "\n",
    "from sklearn.metrics import classification_report, confusion_matrix\n",
    "from sklearn.metrics import plot_roc_curve, roc_auc_score, roc_curve\n",
    "from sklearn.model_selection import cross_val_score, cross_validate\n",
    "from sklearn.model_selection import GridSearchCV"
   ]
  },
  {
   "cell_type": "markdown",
   "id": "f31d22b3",
   "metadata": {
    "papermill": {
     "duration": 0.021372,
     "end_time": "2022-08-22T15:49:15.948527",
     "exception": false,
     "start_time": "2022-08-22T15:49:15.927155",
     "status": "completed"
    },
    "tags": []
   },
   "source": [
    "## Model 1 "
   ]
  },
  {
   "cell_type": "code",
   "execution_count": 29,
   "id": "fc8990f9",
   "metadata": {
    "execution": {
     "iopub.execute_input": "2022-08-22T15:49:15.994807Z",
     "iopub.status.busy": "2022-08-22T15:49:15.994424Z",
     "iopub.status.idle": "2022-08-22T15:49:16.125092Z",
     "shell.execute_reply": "2022-08-22T15:49:16.122942Z"
    },
    "id": "bHmudCirXCeI",
    "papermill": {
     "duration": 0.157005,
     "end_time": "2022-08-22T15:49:16.127465",
     "exception": false,
     "start_time": "2022-08-22T15:49:15.970460",
     "status": "completed"
    },
    "tags": []
   },
   "outputs": [
    {
     "name": "stderr",
     "output_type": "stream",
     "text": [
      "2022-08-22 15:49:16.034283: I tensorflow/core/common_runtime/process_util.cc:146] Creating new thread pool with default inter op setting: 2. Tune using inter_op_parallelism_threads for best performance.\n"
     ]
    }
   ],
   "source": [
    "#build ANN\n",
    "model=Sequential()\n",
    "model.add(Dense(units=12,activation='relu',input_shape=(X.shape[1],)))\n",
    "model.add(Dense(units=8,activation='relu'))\n",
    "model.add(Dense(units=1,activation='sigmoid'))"
   ]
  },
  {
   "cell_type": "code",
   "execution_count": 30,
   "id": "052cabd8",
   "metadata": {
    "execution": {
     "iopub.execute_input": "2022-08-22T15:49:16.173262Z",
     "iopub.status.busy": "2022-08-22T15:49:16.172775Z",
     "iopub.status.idle": "2022-08-22T15:49:16.179801Z",
     "shell.execute_reply": "2022-08-22T15:49:16.178053Z"
    },
    "id": "xGiRpNuyXCgn",
    "outputId": "e069c15a-5c38-4fda-fdaf-61ddd25bc7a7",
    "papermill": {
     "duration": 0.032928,
     "end_time": "2022-08-22T15:49:16.182220",
     "exception": false,
     "start_time": "2022-08-22T15:49:16.149292",
     "status": "completed"
    },
    "tags": []
   },
   "outputs": [
    {
     "name": "stdout",
     "output_type": "stream",
     "text": [
      "Model: \"sequential\"\n",
      "_________________________________________________________________\n",
      "Layer (type)                 Output Shape              Param #   \n",
      "=================================================================\n",
      "dense (Dense)                (None, 12)                132       \n",
      "_________________________________________________________________\n",
      "dense_1 (Dense)              (None, 8)                 104       \n",
      "_________________________________________________________________\n",
      "dense_2 (Dense)              (None, 1)                 9         \n",
      "=================================================================\n",
      "Total params: 245\n",
      "Trainable params: 245\n",
      "Non-trainable params: 0\n",
      "_________________________________________________________________\n"
     ]
    }
   ],
   "source": [
    "model.summary()"
   ]
  },
  {
   "cell_type": "code",
   "execution_count": 31,
   "id": "81507778",
   "metadata": {
    "execution": {
     "iopub.execute_input": "2022-08-22T15:49:16.228509Z",
     "iopub.status.busy": "2022-08-22T15:49:16.227529Z",
     "iopub.status.idle": "2022-08-22T15:49:16.242164Z",
     "shell.execute_reply": "2022-08-22T15:49:16.240922Z"
    },
    "id": "RJoGbaGyXCjc",
    "papermill": {
     "duration": 0.040701,
     "end_time": "2022-08-22T15:49:16.245012",
     "exception": false,
     "start_time": "2022-08-22T15:49:16.204311",
     "status": "completed"
    },
    "tags": []
   },
   "outputs": [],
   "source": [
    "#compile model\n",
    "model.compile(optimizer = 'adam', loss = 'binary_crossentropy', metrics = ['accuracy'])"
   ]
  },
  {
   "cell_type": "code",
   "execution_count": 32,
   "id": "0b96bb5f",
   "metadata": {
    "execution": {
     "iopub.execute_input": "2022-08-22T15:49:16.290488Z",
     "iopub.status.busy": "2022-08-22T15:49:16.290088Z",
     "iopub.status.idle": "2022-08-22T15:49:16.295815Z",
     "shell.execute_reply": "2022-08-22T15:49:16.294923Z"
    },
    "id": "y6GBZEvFXCmH",
    "papermill": {
     "duration": 0.030935,
     "end_time": "2022-08-22T15:49:16.297948",
     "exception": false,
     "start_time": "2022-08-22T15:49:16.267013",
     "status": "completed"
    },
    "tags": []
   },
   "outputs": [],
   "source": [
    "from tensorflow.keras.callbacks import EarlyStopping             \n",
    "#create callback : -\n",
    "cb=EarlyStopping(\n",
    "    monitor=\"val_loss\",  #val_loss means testing error\n",
    "    min_delta=0.00001, #value of lambda \n",
    "    patience=15,\n",
    "    verbose=1,\n",
    "    mode=\"auto\", #minimize loss  #maximize accuracy\n",
    "    baseline=None,\n",
    "    restore_best_weights=False\n",
    ")"
   ]
  },
  {
   "cell_type": "code",
   "execution_count": 33,
   "id": "9906a35f",
   "metadata": {
    "execution": {
     "iopub.execute_input": "2022-08-22T15:49:16.343790Z",
     "iopub.status.busy": "2022-08-22T15:49:16.343085Z",
     "iopub.status.idle": "2022-08-22T15:50:11.507257Z",
     "shell.execute_reply": "2022-08-22T15:50:11.506265Z"
    },
    "id": "urdZEWwoXCor",
    "outputId": "7098ccec-e76c-4f3a-e5b1-b7cd4b1b9ec0",
    "papermill": {
     "duration": 55.18959,
     "end_time": "2022-08-22T15:50:11.509390",
     "exception": false,
     "start_time": "2022-08-22T15:49:16.319800",
     "status": "completed"
    },
    "tags": []
   },
   "outputs": [
    {
     "name": "stderr",
     "output_type": "stream",
     "text": [
      "2022-08-22 15:49:16.433436: I tensorflow/compiler/mlir/mlir_graph_optimization_pass.cc:185] None of the MLIR Optimization Passes are enabled (registered 2)\n"
     ]
    },
    {
     "name": "stdout",
     "output_type": "stream",
     "text": [
      "Epoch 1/500\n",
      "700/700 [==============================] - 2s 2ms/step - loss: 0.4860 - accuracy: 0.7883 - val_loss: 0.4305 - val_accuracy: 0.8130\n",
      "Epoch 2/500\n",
      "700/700 [==============================] - 1s 2ms/step - loss: 0.4128 - accuracy: 0.8257 - val_loss: 0.4112 - val_accuracy: 0.8220\n",
      "Epoch 3/500\n",
      "700/700 [==============================] - 1s 2ms/step - loss: 0.3943 - accuracy: 0.8306 - val_loss: 0.4016 - val_accuracy: 0.8263\n",
      "Epoch 4/500\n",
      "700/700 [==============================] - 1s 2ms/step - loss: 0.3805 - accuracy: 0.8400 - val_loss: 0.3880 - val_accuracy: 0.8423\n",
      "Epoch 5/500\n",
      "700/700 [==============================] - 1s 2ms/step - loss: 0.3660 - accuracy: 0.8526 - val_loss: 0.3749 - val_accuracy: 0.8473\n",
      "Epoch 6/500\n",
      "700/700 [==============================] - 1s 2ms/step - loss: 0.3558 - accuracy: 0.8557 - val_loss: 0.3660 - val_accuracy: 0.8507\n",
      "Epoch 7/500\n",
      "700/700 [==============================] - 1s 2ms/step - loss: 0.3494 - accuracy: 0.8586 - val_loss: 0.3629 - val_accuracy: 0.8523\n",
      "Epoch 8/500\n",
      "700/700 [==============================] - 1s 2ms/step - loss: 0.3455 - accuracy: 0.8593 - val_loss: 0.3621 - val_accuracy: 0.8540\n",
      "Epoch 9/500\n",
      "700/700 [==============================] - 1s 2ms/step - loss: 0.3436 - accuracy: 0.8574 - val_loss: 0.3591 - val_accuracy: 0.8523\n",
      "Epoch 10/500\n",
      "700/700 [==============================] - 1s 2ms/step - loss: 0.3410 - accuracy: 0.8591 - val_loss: 0.3568 - val_accuracy: 0.8527\n",
      "Epoch 11/500\n",
      "700/700 [==============================] - 1s 2ms/step - loss: 0.3395 - accuracy: 0.8619 - val_loss: 0.3573 - val_accuracy: 0.8547\n",
      "Epoch 12/500\n",
      "700/700 [==============================] - 1s 2ms/step - loss: 0.3383 - accuracy: 0.8583 - val_loss: 0.3563 - val_accuracy: 0.8517\n",
      "Epoch 13/500\n",
      "700/700 [==============================] - 1s 2ms/step - loss: 0.3368 - accuracy: 0.8606 - val_loss: 0.3548 - val_accuracy: 0.8530\n",
      "Epoch 14/500\n",
      "700/700 [==============================] - 1s 2ms/step - loss: 0.3357 - accuracy: 0.8607 - val_loss: 0.3536 - val_accuracy: 0.8543\n",
      "Epoch 15/500\n",
      "700/700 [==============================] - 1s 2ms/step - loss: 0.3349 - accuracy: 0.8613 - val_loss: 0.3533 - val_accuracy: 0.8527\n",
      "Epoch 16/500\n",
      "700/700 [==============================] - 1s 2ms/step - loss: 0.3340 - accuracy: 0.8617 - val_loss: 0.3516 - val_accuracy: 0.8537\n",
      "Epoch 17/500\n",
      "700/700 [==============================] - 1s 2ms/step - loss: 0.3328 - accuracy: 0.8607 - val_loss: 0.3539 - val_accuracy: 0.8547\n",
      "Epoch 18/500\n",
      "700/700 [==============================] - 1s 2ms/step - loss: 0.3326 - accuracy: 0.8604 - val_loss: 0.3519 - val_accuracy: 0.8553\n",
      "Epoch 19/500\n",
      "700/700 [==============================] - 1s 2ms/step - loss: 0.3317 - accuracy: 0.8607 - val_loss: 0.3518 - val_accuracy: 0.8550\n",
      "Epoch 20/500\n",
      "700/700 [==============================] - 1s 2ms/step - loss: 0.3310 - accuracy: 0.8613 - val_loss: 0.3533 - val_accuracy: 0.8550\n",
      "Epoch 21/500\n",
      "700/700 [==============================] - 1s 2ms/step - loss: 0.3302 - accuracy: 0.8614 - val_loss: 0.3536 - val_accuracy: 0.8563\n",
      "Epoch 22/500\n",
      "700/700 [==============================] - 1s 2ms/step - loss: 0.3293 - accuracy: 0.8600 - val_loss: 0.3513 - val_accuracy: 0.8553\n",
      "Epoch 23/500\n",
      "700/700 [==============================] - 1s 2ms/step - loss: 0.3287 - accuracy: 0.8619 - val_loss: 0.3543 - val_accuracy: 0.8530\n",
      "Epoch 24/500\n",
      "700/700 [==============================] - 1s 2ms/step - loss: 0.3278 - accuracy: 0.8633 - val_loss: 0.3543 - val_accuracy: 0.8560\n",
      "Epoch 25/500\n",
      "700/700 [==============================] - 2s 2ms/step - loss: 0.3276 - accuracy: 0.8601 - val_loss: 0.3508 - val_accuracy: 0.8563\n",
      "Epoch 26/500\n",
      "700/700 [==============================] - 1s 2ms/step - loss: 0.3266 - accuracy: 0.8626 - val_loss: 0.3536 - val_accuracy: 0.8557\n",
      "Epoch 27/500\n",
      "700/700 [==============================] - 1s 2ms/step - loss: 0.3268 - accuracy: 0.8629 - val_loss: 0.3514 - val_accuracy: 0.8580\n",
      "Epoch 28/500\n",
      "700/700 [==============================] - 1s 2ms/step - loss: 0.3261 - accuracy: 0.8613 - val_loss: 0.3530 - val_accuracy: 0.8567\n",
      "Epoch 29/500\n",
      "700/700 [==============================] - 1s 2ms/step - loss: 0.3254 - accuracy: 0.8640 - val_loss: 0.3523 - val_accuracy: 0.8573\n",
      "Epoch 30/500\n",
      "700/700 [==============================] - 1s 2ms/step - loss: 0.3244 - accuracy: 0.8640 - val_loss: 0.3566 - val_accuracy: 0.8533\n",
      "Epoch 31/500\n",
      "700/700 [==============================] - 1s 2ms/step - loss: 0.3255 - accuracy: 0.8606 - val_loss: 0.3524 - val_accuracy: 0.8560\n",
      "Epoch 32/500\n",
      "700/700 [==============================] - 1s 2ms/step - loss: 0.3241 - accuracy: 0.8627 - val_loss: 0.3545 - val_accuracy: 0.8533\n",
      "Epoch 33/500\n",
      "700/700 [==============================] - 1s 2ms/step - loss: 0.3237 - accuracy: 0.8651 - val_loss: 0.3530 - val_accuracy: 0.8540\n",
      "Epoch 34/500\n",
      "700/700 [==============================] - 1s 2ms/step - loss: 0.3235 - accuracy: 0.8621 - val_loss: 0.3537 - val_accuracy: 0.8567\n",
      "Epoch 35/500\n",
      "700/700 [==============================] - 1s 2ms/step - loss: 0.3231 - accuracy: 0.8636 - val_loss: 0.3556 - val_accuracy: 0.8530\n",
      "Epoch 36/500\n",
      "700/700 [==============================] - 1s 2ms/step - loss: 0.3222 - accuracy: 0.8633 - val_loss: 0.3566 - val_accuracy: 0.8537\n",
      "Epoch 37/500\n",
      "700/700 [==============================] - 1s 2ms/step - loss: 0.3228 - accuracy: 0.8617 - val_loss: 0.3531 - val_accuracy: 0.8547\n",
      "Epoch 38/500\n",
      "700/700 [==============================] - 1s 2ms/step - loss: 0.3222 - accuracy: 0.8630 - val_loss: 0.3572 - val_accuracy: 0.8537\n",
      "Epoch 39/500\n",
      "700/700 [==============================] - 1s 2ms/step - loss: 0.3217 - accuracy: 0.8656 - val_loss: 0.3575 - val_accuracy: 0.8583\n",
      "Epoch 40/500\n",
      "700/700 [==============================] - 1s 2ms/step - loss: 0.3224 - accuracy: 0.8627 - val_loss: 0.3532 - val_accuracy: 0.8540\n",
      "Epoch 00040: early stopping\n"
     ]
    }
   ],
   "source": [
    "trained_model=model.fit(X_train,Y_train,epochs=500,\n",
    "                        validation_data=(X_test,Y_test),\n",
    "                        callbacks=cb,\n",
    "                        batch_size=10\n",
    "                        )"
   ]
  },
  {
   "cell_type": "code",
   "execution_count": 34,
   "id": "8ff98fd1",
   "metadata": {
    "execution": {
     "iopub.execute_input": "2022-08-22T15:50:11.664645Z",
     "iopub.status.busy": "2022-08-22T15:50:11.663902Z",
     "iopub.status.idle": "2022-08-22T15:50:11.671334Z",
     "shell.execute_reply": "2022-08-22T15:50:11.670427Z"
    },
    "id": "x66dHMegXCq4",
    "outputId": "16c0b762-33ff-4a55-a28d-cae4da1b0775",
    "papermill": {
     "duration": 0.08738,
     "end_time": "2022-08-22T15:50:11.673744",
     "exception": false,
     "start_time": "2022-08-22T15:50:11.586364",
     "status": "completed"
    },
    "tags": []
   },
   "outputs": [
    {
     "data": {
      "text/plain": [
       "[0.7882857322692871,\n",
       " 0.8257142901420593,\n",
       " 0.8305714130401611,\n",
       " 0.8399999737739563,\n",
       " 0.852571427822113,\n",
       " 0.8557142615318298,\n",
       " 0.8585714101791382,\n",
       " 0.8592857122421265,\n",
       " 0.8574285507202148,\n",
       " 0.8591428399085999,\n",
       " 0.8618571162223816,\n",
       " 0.8582857251167297,\n",
       " 0.8605714440345764,\n",
       " 0.8607142567634583,\n",
       " 0.8612856864929199,\n",
       " 0.8617143034934998,\n",
       " 0.8607142567634583,\n",
       " 0.8604285717010498,\n",
       " 0.8607142567634583,\n",
       " 0.8612856864929199,\n",
       " 0.8614285588264465,\n",
       " 0.8600000143051147,\n",
       " 0.8618571162223816,\n",
       " 0.8632857203483582,\n",
       " 0.8601428866386414,\n",
       " 0.8625714182853699,\n",
       " 0.8628571629524231,\n",
       " 0.8612856864929199,\n",
       " 0.8640000224113464,\n",
       " 0.8640000224113464,\n",
       " 0.8605714440345764,\n",
       " 0.8627142906188965,\n",
       " 0.8651428818702698,\n",
       " 0.8621428608894348,\n",
       " 0.8635714054107666,\n",
       " 0.8632857203483582,\n",
       " 0.8617143034934998,\n",
       " 0.8629999756813049,\n",
       " 0.8655714392662048,\n",
       " 0.8627142906188965]"
      ]
     },
     "execution_count": 34,
     "metadata": {},
     "output_type": "execute_result"
    }
   ],
   "source": [
    "trained_model.history['accuracy']"
   ]
  },
  {
   "cell_type": "markdown",
   "id": "690bf2b7",
   "metadata": {
    "papermill": {
     "duration": 0.075219,
     "end_time": "2022-08-22T15:50:11.825825",
     "exception": false,
     "start_time": "2022-08-22T15:50:11.750606",
     "status": "completed"
    },
    "tags": []
   },
   "source": [
    "## Model Evaluation"
   ]
  },
  {
   "cell_type": "code",
   "execution_count": 35,
   "id": "d396fc3e",
   "metadata": {
    "execution": {
     "iopub.execute_input": "2022-08-22T15:50:11.980164Z",
     "iopub.status.busy": "2022-08-22T15:50:11.979318Z",
     "iopub.status.idle": "2022-08-22T15:50:13.729798Z",
     "shell.execute_reply": "2022-08-22T15:50:13.728843Z"
    },
    "id": "pEivVOObb-TJ",
    "outputId": "a7cddc17-57ac-41a6-8824-1a01c9a45a05",
    "papermill": {
     "duration": 1.829974,
     "end_time": "2022-08-22T15:50:13.732393",
     "exception": false,
     "start_time": "2022-08-22T15:50:11.902419",
     "status": "completed"
    },
    "tags": []
   },
   "outputs": [
    {
     "name": "stdout",
     "output_type": "stream",
     "text": [
      "219/219 [==============================] - 1s 2ms/step - loss: 0.3179 - accuracy: 0.8673\n",
      "219/219 [==============================] - 0s 2ms/step - loss: 0.3179 - accuracy: 0.8673\n",
      "Training accuracy : 0.8672857284545898\n",
      "219/219 [==============================] - 0s 2ms/step - loss: 0.3179 - accuracy: 0.8673\n",
      "Training loss : 0.31787943840026855\n"
     ]
    }
   ],
   "source": [
    "model.evaluate(X_train,Y_train)\n",
    "print(\"Training accuracy :\",model.evaluate(X_train,Y_train)[1])\n",
    "print(\"Training loss :\",model.evaluate(X_train,Y_train)[0])"
   ]
  },
  {
   "cell_type": "code",
   "execution_count": 36,
   "id": "c2dec00d",
   "metadata": {
    "execution": {
     "iopub.execute_input": "2022-08-22T15:50:13.891208Z",
     "iopub.status.busy": "2022-08-22T15:50:13.890065Z",
     "iopub.status.idle": "2022-08-22T15:50:14.584429Z",
     "shell.execute_reply": "2022-08-22T15:50:14.583041Z"
    },
    "id": "moH2fBOib-s_",
    "outputId": "d71650f3-4408-4351-a441-e59e1293bf4c",
    "papermill": {
     "duration": 0.776622,
     "end_time": "2022-08-22T15:50:14.587433",
     "exception": false,
     "start_time": "2022-08-22T15:50:13.810811",
     "status": "completed"
    },
    "tags": []
   },
   "outputs": [
    {
     "name": "stdout",
     "output_type": "stream",
     "text": [
      "94/94 [==============================] - 0s 2ms/step - loss: 0.3532 - accuracy: 0.8540\n",
      "94/94 [==============================] - 0s 2ms/step - loss: 0.3532 - accuracy: 0.8540\n",
      "Testing accuracy : 0.8539999723434448\n",
      "94/94 [==============================] - 0s 2ms/step - loss: 0.3532 - accuracy: 0.8540\n",
      "Testing loss : 0.35324978828430176\n"
     ]
    }
   ],
   "source": [
    "model.evaluate(X_test,Y_test)\n",
    "print(\"Testing accuracy :\",model.evaluate(X_test,Y_test)[1])\n",
    "print(\"Testing loss :\",model.evaluate(X_test,Y_test)[0])"
   ]
  },
  {
   "cell_type": "code",
   "execution_count": 37,
   "id": "4621e488",
   "metadata": {
    "execution": {
     "iopub.execute_input": "2022-08-22T15:50:14.747816Z",
     "iopub.status.busy": "2022-08-22T15:50:14.747421Z",
     "iopub.status.idle": "2022-08-22T15:50:15.023814Z",
     "shell.execute_reply": "2022-08-22T15:50:15.022666Z"
    },
    "id": "4bpGYWMVb-zY",
    "outputId": "da55af4e-7f7a-43ba-92a9-1904ea0d4a4a",
    "papermill": {
     "duration": 0.359296,
     "end_time": "2022-08-22T15:50:15.026554",
     "exception": false,
     "start_time": "2022-08-22T15:50:14.667258",
     "status": "completed"
    },
    "tags": []
   },
   "outputs": [
    {
     "data": {
      "image/png": "[encoded data removed]",
      "text/plain": [
       "<Figure size 864x504 with 1 Axes>"
      ]
     },
     "metadata": {
      "needs_background": "light"
     },
     "output_type": "display_data"
    }
   ],
   "source": [
    "plt.figure(figsize=(12,7))\n",
    "plt.plot(trained_model.history['accuracy'],label='Training accuracy',color='red')\n",
    "plt.plot(trained_model.history['val_accuracy'],label='Testing accuracy',color='green')\n",
    "plt.legend()\n",
    "plt.xlabel('No of Epoch')\n",
    "plt.ylabel('Accuracy')\n",
    "plt.title(\"Accuracy vs Epoch\")\n",
    "plt.show()"
   ]
  },
  {
   "cell_type": "code",
   "execution_count": 38,
   "id": "db1fa448",
   "metadata": {
    "execution": {
     "iopub.execute_input": "2022-08-22T15:50:15.188292Z",
     "iopub.status.busy": "2022-08-22T15:50:15.186936Z",
     "iopub.status.idle": "2022-08-22T15:50:15.441248Z",
     "shell.execute_reply": "2022-08-22T15:50:15.439910Z"
    },
    "id": "TuK06IRQXCtY",
    "outputId": "b78d22a2-bad6-4e22-99fe-cf66bf23ebe6",
    "papermill": {
     "duration": 0.338218,
     "end_time": "2022-08-22T15:50:15.443981",
     "exception": false,
     "start_time": "2022-08-22T15:50:15.105763",
     "status": "completed"
    },
    "tags": []
   },
   "outputs": [
    {
     "data": {
      "image/png": "[encoded data removed]",
      "text/plain": [
       "<Figure size 864x504 with 1 Axes>"
      ]
     },
     "metadata": {
      "needs_background": "light"
     },
     "output_type": "display_data"
    }
   ],
   "source": [
    "plt.figure(figsize=(12,7))\n",
    "plt.plot(trained_model.history['loss'],label='Training loss',color='red')\n",
    "plt.plot(trained_model.history['val_loss'],label='Testing loss',color='green')\n",
    "plt.legend()\n",
    "plt.xlabel('No of Epoch')\n",
    "plt.ylabel('Loss')\n",
    "plt.title(\"Loss vs Epoch\")\n",
    "plt.show()"
   ]
  },
  {
   "cell_type": "code",
   "execution_count": 39,
   "id": "17058814",
   "metadata": {
    "execution": {
     "iopub.execute_input": "2022-08-22T15:50:15.605349Z",
     "iopub.status.busy": "2022-08-22T15:50:15.604856Z",
     "iopub.status.idle": "2022-08-22T15:50:15.819358Z",
     "shell.execute_reply": "2022-08-22T15:50:15.818099Z"
    },
    "id": "GiOLVlsWeVAg",
    "papermill": {
     "duration": 0.297982,
     "end_time": "2022-08-22T15:50:15.822031",
     "exception": false,
     "start_time": "2022-08-22T15:50:15.524049",
     "status": "completed"
    },
    "tags": []
   },
   "outputs": [],
   "source": [
    "y_pred_prob=model.predict(X_test)\n",
    "y_pred=np.where(y_pred_prob>0.5,1,0)"
   ]
  },
  {
   "cell_type": "code",
   "execution_count": 40,
   "id": "a27020db",
   "metadata": {
    "execution": {
     "iopub.execute_input": "2022-08-22T15:50:15.982845Z",
     "iopub.status.busy": "2022-08-22T15:50:15.982149Z",
     "iopub.status.idle": "2022-08-22T15:50:15.990878Z",
     "shell.execute_reply": "2022-08-22T15:50:15.989968Z"
    },
    "id": "HoZyyI_QeVDH",
    "outputId": "1a33faff-d0b4-4636-8887-88760b4db5ec",
    "papermill": {
     "duration": 0.091559,
     "end_time": "2022-08-22T15:50:15.993067",
     "exception": false,
     "start_time": "2022-08-22T15:50:15.901508",
     "status": "completed"
    },
    "tags": []
   },
   "outputs": [
    {
     "data": {
      "text/plain": [
       "array([[0],\n",
       "       [0],\n",
       "       [0],\n",
       "       ...,\n",
       "       [0],\n",
       "       [0],\n",
       "       [0]])"
      ]
     },
     "execution_count": 40,
     "metadata": {},
     "output_type": "execute_result"
    }
   ],
   "source": [
    "y_pred"
   ]
  },
  {
   "cell_type": "code",
   "execution_count": 41,
   "id": "37cac7d2",
   "metadata": {
    "execution": {
     "iopub.execute_input": "2022-08-22T15:50:16.154851Z",
     "iopub.status.busy": "2022-08-22T15:50:16.154225Z",
     "iopub.status.idle": "2022-08-22T15:50:16.170251Z",
     "shell.execute_reply": "2022-08-22T15:50:16.168980Z"
    },
    "id": "ZVptEngbeVFx",
    "outputId": "0771edb7-0667-45da-af4d-3db1341cf3c4",
    "papermill": {
     "duration": 0.099425,
     "end_time": "2022-08-22T15:50:16.172773",
     "exception": false,
     "start_time": "2022-08-22T15:50:16.073348",
     "status": "completed"
    },
    "tags": []
   },
   "outputs": [
    {
     "name": "stdout",
     "output_type": "stream",
     "text": [
      "              precision    recall  f1-score   support\n",
      "\n",
      "           0       0.87      0.96      0.91      2389\n",
      "           1       0.74      0.44      0.55       611\n",
      "\n",
      "    accuracy                           0.85      3000\n",
      "   macro avg       0.80      0.70      0.73      3000\n",
      "weighted avg       0.84      0.85      0.84      3000\n",
      "\n",
      "[[2295   94]\n",
      " [ 344  267]]\n"
     ]
    }
   ],
   "source": [
    "print(classification_report(Y_test,y_pred))\n",
    "print(confusion_matrix(Y_test,y_pred))"
   ]
  },
  {
   "cell_type": "code",
   "execution_count": 42,
   "id": "4cc143bf",
   "metadata": {
    "execution": {
     "iopub.execute_input": "2022-08-22T15:50:16.332152Z",
     "iopub.status.busy": "2022-08-22T15:50:16.331732Z",
     "iopub.status.idle": "2022-08-22T15:50:16.585480Z",
     "shell.execute_reply": "2022-08-22T15:50:16.584298Z"
    },
    "papermill": {
     "duration": 0.336456,
     "end_time": "2022-08-22T15:50:16.587802",
     "exception": false,
     "start_time": "2022-08-22T15:50:16.251346",
     "status": "completed"
    },
    "tags": []
   },
   "outputs": [
    {
     "data": {
      "image/png": "[encoded data removed]",
      "text/plain": [
       "<Figure size 504x360 with 2 Axes>"
      ]
     },
     "metadata": {
      "needs_background": "light"
     },
     "output_type": "display_data"
    }
   ],
   "source": [
    "plt.figure(figsize=(7,5))\n",
    "sns.heatmap(confusion_matrix(Y_test,y_pred),annot=True,cmap=\"OrRd_r\",\n",
    "            fmt=\"d\",cbar=True,\n",
    "            annot_kws={\"fontsize\":15})\n",
    "plt.xlabel(\"Actual Result\")\n",
    "plt.ylabel(\"Predicted Result\")\n",
    "plt.show()"
   ]
  },
  {
   "cell_type": "markdown",
   "id": "b92327b2",
   "metadata": {
    "id": "3-hV-a8zjIG5",
    "papermill": {
     "duration": 0.083826,
     "end_time": "2022-08-22T15:50:16.751460",
     "exception": false,
     "start_time": "2022-08-22T15:50:16.667634",
     "status": "completed"
    },
    "tags": []
   },
   "source": [
    "## 2. Drop Out Layers"
   ]
  },
  {
   "cell_type": "code",
   "execution_count": 43,
   "id": "533721ae",
   "metadata": {
    "execution": {
     "iopub.execute_input": "2022-08-22T15:50:16.915434Z",
     "iopub.status.busy": "2022-08-22T15:50:16.914769Z",
     "iopub.status.idle": "2022-08-22T15:50:16.956083Z",
     "shell.execute_reply": "2022-08-22T15:50:16.954315Z"
    },
    "id": "zR5SnrgjjIJR",
    "papermill": {
     "duration": 0.126809,
     "end_time": "2022-08-22T15:50:16.958788",
     "exception": false,
     "start_time": "2022-08-22T15:50:16.831979",
     "status": "completed"
    },
    "tags": []
   },
   "outputs": [],
   "source": [
    "model2=Sequential()\n",
    "model2.add(Dense(units=30,activation='relu',input_shape=(X.shape[1],)))\n",
    "model2.add(Dropout(rate = 0.2))\n",
    "model2.add(Dense(units=18,activation='relu'))\n",
    "model2.add(Dropout(rate = 0.1))\n",
    "model2.add(Dense(units=1,activation='sigmoid'))"
   ]
  },
  {
   "cell_type": "code",
   "execution_count": 44,
   "id": "47e05962",
   "metadata": {
    "execution": {
     "iopub.execute_input": "2022-08-22T15:50:17.121240Z",
     "iopub.status.busy": "2022-08-22T15:50:17.120779Z",
     "iopub.status.idle": "2022-08-22T15:50:17.131467Z",
     "shell.execute_reply": "2022-08-22T15:50:17.130312Z"
    },
    "id": "aaBMktKQjILY",
    "papermill": {
     "duration": 0.095381,
     "end_time": "2022-08-22T15:50:17.134206",
     "exception": false,
     "start_time": "2022-08-22T15:50:17.038825",
     "status": "completed"
    },
    "tags": []
   },
   "outputs": [],
   "source": [
    "model2.compile(optimizer = 'adam', loss = 'binary_crossentropy', metrics = ['accuracy'])"
   ]
  },
  {
   "cell_type": "code",
   "execution_count": 45,
   "id": "4ae82f47",
   "metadata": {
    "execution": {
     "iopub.execute_input": "2022-08-22T15:50:17.297745Z",
     "iopub.status.busy": "2022-08-22T15:50:17.296688Z",
     "iopub.status.idle": "2022-08-22T15:51:29.277755Z",
     "shell.execute_reply": "2022-08-22T15:51:29.276326Z"
    },
    "id": "NOM-QvWdjINg",
    "outputId": "10cffbad-8886-43e7-d106-89dd69436775",
    "papermill": {
     "duration": 72.06733,
     "end_time": "2022-08-22T15:51:29.280743",
     "exception": false,
     "start_time": "2022-08-22T15:50:17.213413",
     "status": "completed"
    },
    "tags": []
   },
   "outputs": [
    {
     "name": "stdout",
     "output_type": "stream",
     "text": [
      "Epoch 1/500\n",
      "700/700 [==============================] - 2s 2ms/step - loss: 0.4714 - accuracy: 0.7953 - val_loss: 0.4171 - val_accuracy: 0.8257\n",
      "Epoch 2/500\n",
      "700/700 [==============================] - 2s 2ms/step - loss: 0.4090 - accuracy: 0.8306 - val_loss: 0.3935 - val_accuracy: 0.8367\n",
      "Epoch 3/500\n",
      "700/700 [==============================] - 2s 2ms/step - loss: 0.3849 - accuracy: 0.8397 - val_loss: 0.3763 - val_accuracy: 0.8467\n",
      "Epoch 4/500\n",
      "700/700 [==============================] - 2s 2ms/step - loss: 0.3761 - accuracy: 0.8431 - val_loss: 0.3666 - val_accuracy: 0.8527\n",
      "Epoch 5/500\n",
      "700/700 [==============================] - 2s 2ms/step - loss: 0.3690 - accuracy: 0.8456 - val_loss: 0.3631 - val_accuracy: 0.8520\n",
      "Epoch 6/500\n",
      "700/700 [==============================] - 1s 2ms/step - loss: 0.3674 - accuracy: 0.8461 - val_loss: 0.3611 - val_accuracy: 0.8490\n",
      "Epoch 7/500\n",
      "700/700 [==============================] - 2s 2ms/step - loss: 0.3621 - accuracy: 0.8491 - val_loss: 0.3584 - val_accuracy: 0.8533\n",
      "Epoch 8/500\n",
      "700/700 [==============================] - 1s 2ms/step - loss: 0.3564 - accuracy: 0.8531 - val_loss: 0.3561 - val_accuracy: 0.8550\n",
      "Epoch 9/500\n",
      "700/700 [==============================] - 2s 2ms/step - loss: 0.3574 - accuracy: 0.8506 - val_loss: 0.3520 - val_accuracy: 0.8587\n",
      "Epoch 10/500\n",
      "700/700 [==============================] - 1s 2ms/step - loss: 0.3602 - accuracy: 0.8517 - val_loss: 0.3525 - val_accuracy: 0.8573\n",
      "Epoch 11/500\n",
      "700/700 [==============================] - 2s 2ms/step - loss: 0.3550 - accuracy: 0.8537 - val_loss: 0.3520 - val_accuracy: 0.8553\n",
      "Epoch 12/500\n",
      "700/700 [==============================] - 2s 3ms/step - loss: 0.3511 - accuracy: 0.8547 - val_loss: 0.3513 - val_accuracy: 0.8537\n",
      "Epoch 13/500\n",
      "700/700 [==============================] - 2s 2ms/step - loss: 0.3531 - accuracy: 0.8549 - val_loss: 0.3521 - val_accuracy: 0.8533\n",
      "Epoch 14/500\n",
      "700/700 [==============================] - 2s 2ms/step - loss: 0.3514 - accuracy: 0.8580 - val_loss: 0.3505 - val_accuracy: 0.8550\n",
      "Epoch 15/500\n",
      "700/700 [==============================] - 2s 2ms/step - loss: 0.3448 - accuracy: 0.8590 - val_loss: 0.3488 - val_accuracy: 0.8583\n",
      "Epoch 16/500\n",
      "700/700 [==============================] - 2s 2ms/step - loss: 0.3462 - accuracy: 0.8563 - val_loss: 0.3481 - val_accuracy: 0.8577\n",
      "Epoch 17/500\n",
      "700/700 [==============================] - 2s 2ms/step - loss: 0.3471 - accuracy: 0.8603 - val_loss: 0.3471 - val_accuracy: 0.8583\n",
      "Epoch 18/500\n",
      "700/700 [==============================] - 2s 2ms/step - loss: 0.3394 - accuracy: 0.8637 - val_loss: 0.3518 - val_accuracy: 0.8583\n",
      "Epoch 19/500\n",
      "700/700 [==============================] - 2s 2ms/step - loss: 0.3466 - accuracy: 0.8584 - val_loss: 0.3497 - val_accuracy: 0.8580\n",
      "Epoch 20/500\n",
      "700/700 [==============================] - 2s 2ms/step - loss: 0.3430 - accuracy: 0.8580 - val_loss: 0.3488 - val_accuracy: 0.8607\n",
      "Epoch 21/500\n",
      "700/700 [==============================] - 2s 2ms/step - loss: 0.3415 - accuracy: 0.8601 - val_loss: 0.3488 - val_accuracy: 0.8587\n",
      "Epoch 22/500\n",
      "700/700 [==============================] - 2s 2ms/step - loss: 0.3411 - accuracy: 0.8614 - val_loss: 0.3490 - val_accuracy: 0.8600\n",
      "Epoch 23/500\n",
      "700/700 [==============================] - 2s 2ms/step - loss: 0.3398 - accuracy: 0.8603 - val_loss: 0.3496 - val_accuracy: 0.8610\n",
      "Epoch 24/500\n",
      "700/700 [==============================] - 2s 2ms/step - loss: 0.3391 - accuracy: 0.8640 - val_loss: 0.3499 - val_accuracy: 0.8567\n",
      "Epoch 25/500\n",
      "700/700 [==============================] - 2s 2ms/step - loss: 0.3431 - accuracy: 0.8577 - val_loss: 0.3488 - val_accuracy: 0.8613\n",
      "Epoch 26/500\n",
      "700/700 [==============================] - 2s 2ms/step - loss: 0.3422 - accuracy: 0.8609 - val_loss: 0.3479 - val_accuracy: 0.8610\n",
      "Epoch 27/500\n",
      "700/700 [==============================] - 2s 2ms/step - loss: 0.3379 - accuracy: 0.8613 - val_loss: 0.3479 - val_accuracy: 0.8613\n",
      "Epoch 28/500\n",
      "700/700 [==============================] - 2s 2ms/step - loss: 0.3369 - accuracy: 0.8611 - val_loss: 0.3502 - val_accuracy: 0.8587\n",
      "Epoch 29/500\n",
      "700/700 [==============================] - 2s 2ms/step - loss: 0.3364 - accuracy: 0.8621 - val_loss: 0.3454 - val_accuracy: 0.8627\n",
      "Epoch 30/500\n",
      "700/700 [==============================] - 2s 2ms/step - loss: 0.3338 - accuracy: 0.8636 - val_loss: 0.3478 - val_accuracy: 0.8603\n",
      "Epoch 31/500\n",
      "700/700 [==============================] - 2s 2ms/step - loss: 0.3379 - accuracy: 0.8641 - val_loss: 0.3490 - val_accuracy: 0.8613\n",
      "Epoch 32/500\n",
      "700/700 [==============================] - 2s 2ms/step - loss: 0.3389 - accuracy: 0.8573 - val_loss: 0.3474 - val_accuracy: 0.8607\n",
      "Epoch 33/500\n",
      "700/700 [==============================] - 2s 2ms/step - loss: 0.3352 - accuracy: 0.8621 - val_loss: 0.3458 - val_accuracy: 0.8630\n",
      "Epoch 34/500\n",
      "700/700 [==============================] - 2s 2ms/step - loss: 0.3356 - accuracy: 0.8649 - val_loss: 0.3491 - val_accuracy: 0.8600\n",
      "Epoch 35/500\n",
      "700/700 [==============================] - 2s 2ms/step - loss: 0.3358 - accuracy: 0.8644 - val_loss: 0.3485 - val_accuracy: 0.8623\n",
      "Epoch 36/500\n",
      "700/700 [==============================] - 2s 2ms/step - loss: 0.3308 - accuracy: 0.8660 - val_loss: 0.3481 - val_accuracy: 0.8603\n",
      "Epoch 37/500\n",
      "700/700 [==============================] - 2s 2ms/step - loss: 0.3315 - accuracy: 0.8644 - val_loss: 0.3461 - val_accuracy: 0.8623\n",
      "Epoch 38/500\n",
      "700/700 [==============================] - 2s 2ms/step - loss: 0.3371 - accuracy: 0.8613 - val_loss: 0.3462 - val_accuracy: 0.8623\n",
      "Epoch 39/500\n",
      "700/700 [==============================] - 2s 2ms/step - loss: 0.3340 - accuracy: 0.8597 - val_loss: 0.3465 - val_accuracy: 0.8613\n",
      "Epoch 40/500\n",
      "700/700 [==============================] - 2s 2ms/step - loss: 0.3322 - accuracy: 0.8649 - val_loss: 0.3489 - val_accuracy: 0.8607\n",
      "Epoch 41/500\n",
      "700/700 [==============================] - 2s 2ms/step - loss: 0.3306 - accuracy: 0.8616 - val_loss: 0.3500 - val_accuracy: 0.8620\n",
      "Epoch 42/500\n",
      "700/700 [==============================] - 2s 3ms/step - loss: 0.3295 - accuracy: 0.8666 - val_loss: 0.3470 - val_accuracy: 0.8617\n",
      "Epoch 43/500\n",
      "700/700 [==============================] - 2s 2ms/step - loss: 0.3335 - accuracy: 0.8643 - val_loss: 0.3502 - val_accuracy: 0.8603\n",
      "Epoch 44/500\n",
      "700/700 [==============================] - 2s 2ms/step - loss: 0.3324 - accuracy: 0.8640 - val_loss: 0.3478 - val_accuracy: 0.8640\n",
      "Epoch 00044: early stopping\n"
     ]
    }
   ],
   "source": [
    "trained_model2=model2.fit(X_train,Y_train,epochs=500,\n",
    "                        validation_data=(X_test,Y_test),\n",
    "                        callbacks=cb,\n",
    "                        batch_size=10\n",
    "                        )"
   ]
  },
  {
   "cell_type": "markdown",
   "id": "a07f555e",
   "metadata": {
    "papermill": {
     "duration": 0.153406,
     "end_time": "2022-08-22T15:51:29.588105",
     "exception": false,
     "start_time": "2022-08-22T15:51:29.434699",
     "status": "completed"
    },
    "tags": []
   },
   "source": [
    "## Model 2 Evaluation"
   ]
  },
  {
   "cell_type": "code",
   "execution_count": 46,
   "id": "7d4a01ef",
   "metadata": {
    "execution": {
     "iopub.execute_input": "2022-08-22T15:51:29.975300Z",
     "iopub.status.busy": "2022-08-22T15:51:29.974527Z",
     "iopub.status.idle": "2022-08-22T15:51:31.548442Z",
     "shell.execute_reply": "2022-08-22T15:51:31.546104Z"
    },
    "id": "ZDP6nMQtjIQO",
    "outputId": "f65a6636-0d1f-4aae-f322-0c548727d0de",
    "papermill": {
     "duration": 1.805731,
     "end_time": "2022-08-22T15:51:31.551123",
     "exception": false,
     "start_time": "2022-08-22T15:51:29.745392",
     "status": "completed"
    },
    "scrolled": true,
    "tags": []
   },
   "outputs": [
    {
     "name": "stdout",
     "output_type": "stream",
     "text": [
      "219/219 [==============================] - 1s 2ms/step - loss: 0.3128 - accuracy: 0.8700\n",
      "219/219 [==============================] - 0s 2ms/step - loss: 0.3128 - accuracy: 0.8700\n",
      "Training accuracy : 0.8700000047683716\n",
      "219/219 [==============================] - 0s 2ms/step - loss: 0.3128 - accuracy: 0.8700\n",
      "Training loss : 0.31282487511634827\n"
     ]
    }
   ],
   "source": [
    "model2.evaluate(X_train,Y_train)\n",
    "print(\"Training accuracy :\",model2.evaluate(X_train,Y_train)[1])\n",
    "print(\"Training loss :\",model2.evaluate(X_train,Y_train)[0])"
   ]
  },
  {
   "cell_type": "code",
   "execution_count": 47,
   "id": "febd80ea",
   "metadata": {
    "execution": {
     "iopub.execute_input": "2022-08-22T15:51:31.864926Z",
     "iopub.status.busy": "2022-08-22T15:51:31.863648Z",
     "iopub.status.idle": "2022-08-22T15:51:32.601355Z",
     "shell.execute_reply": "2022-08-22T15:51:32.599865Z"
    },
    "papermill": {
     "duration": 0.898569,
     "end_time": "2022-08-22T15:51:32.604163",
     "exception": false,
     "start_time": "2022-08-22T15:51:31.705594",
     "status": "completed"
    },
    "tags": []
   },
   "outputs": [
    {
     "name": "stdout",
     "output_type": "stream",
     "text": [
      "94/94 [==============================] - 0s 2ms/step - loss: 0.3478 - accuracy: 0.8640\n",
      "94/94 [==============================] - 0s 2ms/step - loss: 0.3478 - accuracy: 0.8640\n",
      "Testing accuracy : 0.8640000224113464\n",
      "94/94 [==============================] - 0s 2ms/step - loss: 0.3478 - accuracy: 0.8640\n",
      "Testing loss : 0.34784945845603943\n"
     ]
    }
   ],
   "source": [
    "model2.evaluate(X_test,Y_test)\n",
    "print(\"Testing accuracy :\",model2.evaluate(X_test,Y_test)[1])\n",
    "print(\"Testing loss :\",model2.evaluate(X_test,Y_test)[0])"
   ]
  },
  {
   "cell_type": "code",
   "execution_count": 48,
   "id": "066102bc",
   "metadata": {
    "execution": {
     "iopub.execute_input": "2022-08-22T15:51:32.916356Z",
     "iopub.status.busy": "2022-08-22T15:51:32.915948Z",
     "iopub.status.idle": "2022-08-22T15:51:33.150863Z",
     "shell.execute_reply": "2022-08-22T15:51:33.149624Z"
    },
    "id": "MzILVym9nDQJ",
    "outputId": "f4acb150-0526-4e7b-8919-2fd65ab45d44",
    "papermill": {
     "duration": 0.392981,
     "end_time": "2022-08-22T15:51:33.153449",
     "exception": false,
     "start_time": "2022-08-22T15:51:32.760468",
     "status": "completed"
    },
    "tags": []
   },
   "outputs": [
    {
     "name": "stdout",
     "output_type": "stream",
     "text": [
      "94/94 [==============================] - 0s 2ms/step - loss: 0.3478 - accuracy: 0.8640\n"
     ]
    },
    {
     "data": {
      "text/plain": [
       "[0.34784945845603943, 0.8640000224113464]"
      ]
     },
     "execution_count": 48,
     "metadata": {},
     "output_type": "execute_result"
    }
   ],
   "source": [
    "model2.evaluate(X_test,Y_test)"
   ]
  },
  {
   "cell_type": "code",
   "execution_count": 49,
   "id": "76aaf77d",
   "metadata": {
    "execution": {
     "iopub.execute_input": "2022-08-22T15:51:33.466651Z",
     "iopub.status.busy": "2022-08-22T15:51:33.465787Z",
     "iopub.status.idle": "2022-08-22T15:51:33.661477Z",
     "shell.execute_reply": "2022-08-22T15:51:33.660297Z"
    },
    "id": "B9KrZRz7nDW4",
    "outputId": "4b461822-6602-4a14-d480-dc5dd2ee0f5f",
    "papermill": {
     "duration": 0.355184,
     "end_time": "2022-08-22T15:51:33.664144",
     "exception": false,
     "start_time": "2022-08-22T15:51:33.308960",
     "status": "completed"
    },
    "tags": []
   },
   "outputs": [
    {
     "data": {
      "image/png": "[encoded data removed]",
      "text/plain": [
       "<Figure size 864x504 with 1 Axes>"
      ]
     },
     "metadata": {
      "needs_background": "light"
     },
     "output_type": "display_data"
    }
   ],
   "source": [
    "plt.figure(figsize=(12,7))\n",
    "plt.plot(trained_model2.history['accuracy'],label='Training accuracy',color='red')\n",
    "plt.plot(trained_model2.history['val_accuracy'],label='Testing accuracy',color='green')\n",
    "plt.legend()\n",
    "plt.xlabel('No of Epoch')\n",
    "plt.ylabel('Accuracy')\n",
    "plt.title(\"Accuracy vs Epoch\")\n",
    "plt.show()"
   ]
  },
  {
   "cell_type": "code",
   "execution_count": 50,
   "id": "412949ef",
   "metadata": {
    "execution": {
     "iopub.execute_input": "2022-08-22T15:51:33.992314Z",
     "iopub.status.busy": "2022-08-22T15:51:33.991913Z",
     "iopub.status.idle": "2022-08-22T15:51:34.177297Z",
     "shell.execute_reply": "2022-08-22T15:51:34.176233Z"
    },
    "id": "ASL8T02DnDZR",
    "outputId": "4a4c6169-59a6-41aa-8836-58b4c293186a",
    "papermill": {
     "duration": 0.348709,
     "end_time": "2022-08-22T15:51:34.179686",
     "exception": false,
     "start_time": "2022-08-22T15:51:33.830977",
     "status": "completed"
    },
    "tags": []
   },
   "outputs": [
    {
     "data": {
      "image/png": "[encoded data removed]",
      "text/plain": [
       "<Figure size 864x504 with 1 Axes>"
      ]
     },
     "metadata": {
      "needs_background": "light"
     },
     "output_type": "display_data"
    }
   ],
   "source": [
    "plt.figure(figsize=(12,7))\n",
    "plt.plot(trained_model2.history['loss'],label='Training loss',color='red')\n",
    "plt.plot(trained_model2.history['val_loss'],label='Testing loss',color='green')\n",
    "plt.legend()\n",
    "plt.xlabel('No of Epoch')\n",
    "plt.ylabel('Loss')\n",
    "plt.title(\"Loss vs Epoch\")\n",
    "plt.show()"
   ]
  },
  {
   "cell_type": "code",
   "execution_count": 51,
   "id": "ccd15ec3",
   "metadata": {
    "execution": {
     "iopub.execute_input": "2022-08-22T15:51:34.504212Z",
     "iopub.status.busy": "2022-08-22T15:51:34.503212Z",
     "iopub.status.idle": "2022-08-22T15:51:34.692429Z",
     "shell.execute_reply": "2022-08-22T15:51:34.691353Z"
    },
    "id": "Evf2BBE9nDbg",
    "papermill": {
     "duration": 0.35525,
     "end_time": "2022-08-22T15:51:34.695163",
     "exception": false,
     "start_time": "2022-08-22T15:51:34.339913",
     "status": "completed"
    },
    "tags": []
   },
   "outputs": [],
   "source": [
    "y_pred_prob=model2.predict(X_test)\n",
    "y_pred=np.where(y_pred_prob>0.5,1,0)"
   ]
  },
  {
   "cell_type": "code",
   "execution_count": 52,
   "id": "9e1be63c",
   "metadata": {
    "execution": {
     "iopub.execute_input": "2022-08-22T15:51:35.017189Z",
     "iopub.status.busy": "2022-08-22T15:51:35.016009Z",
     "iopub.status.idle": "2022-08-22T15:51:35.033163Z",
     "shell.execute_reply": "2022-08-22T15:51:35.031834Z"
    },
    "id": "Fq7S7VOenDdr",
    "outputId": "76b84246-c3ac-4827-c62d-0eb486d9909d",
    "papermill": {
     "duration": 0.180871,
     "end_time": "2022-08-22T15:51:35.035663",
     "exception": false,
     "start_time": "2022-08-22T15:51:34.854792",
     "status": "completed"
    },
    "tags": []
   },
   "outputs": [
    {
     "name": "stdout",
     "output_type": "stream",
     "text": [
      "              precision    recall  f1-score   support\n",
      "\n",
      "           0       0.88      0.97      0.92      2389\n",
      "           1       0.78      0.46      0.58       611\n",
      "\n",
      "    accuracy                           0.86      3000\n",
      "   macro avg       0.83      0.71      0.75      3000\n",
      "weighted avg       0.86      0.86      0.85      3000\n",
      "\n",
      "[[2311   78]\n",
      " [ 330  281]]\n"
     ]
    }
   ],
   "source": [
    "print(classification_report(Y_test,y_pred))\n",
    "print(confusion_matrix(Y_test,y_pred))"
   ]
  },
  {
   "cell_type": "code",
   "execution_count": 53,
   "id": "cad7236c",
   "metadata": {
    "execution": {
     "iopub.execute_input": "2022-08-22T15:51:35.416920Z",
     "iopub.status.busy": "2022-08-22T15:51:35.416492Z",
     "iopub.status.idle": "2022-08-22T15:51:35.615069Z",
     "shell.execute_reply": "2022-08-22T15:51:35.613873Z"
    },
    "id": "AYvlnMcYnDgD",
    "outputId": "64ae1104-ef5c-4322-83dc-83fa78e100d7",
    "papermill": {
     "duration": 0.420101,
     "end_time": "2022-08-22T15:51:35.618015",
     "exception": false,
     "start_time": "2022-08-22T15:51:35.197914",
     "status": "completed"
    },
    "tags": []
   },
   "outputs": [
    {
     "data": {
      "image/png": "[encoded data removed]",
      "text/plain": [
       "<Figure size 504x360 with 2 Axes>"
      ]
     },
     "metadata": {
      "needs_background": "light"
     },
     "output_type": "display_data"
    }
   ],
   "source": [
    "plt.figure(figsize=(7,5))\n",
    "sns.heatmap(confusion_matrix(Y_test,y_pred),annot=True,cmap=\"OrRd_r\",\n",
    "            fmt=\"d\",cbar=True,\n",
    "            annot_kws={\"fontsize\":15})\n",
    "plt.xlabel(\"Actual Result\")\n",
    "plt.ylabel(\"Predicted Result\")\n",
    "plt.show()"
   ]
  }
 ],
 "metadata": {
  "kernelspec": {
   "display_name": "Python 3 (ipykernel)",
   "language": "python",
   "name": "python3"
  },
  "language_info": {
   "codemirror_mode": {
    "name": "ipython",
    "version": 3
   },
   "file_extension": ".py",
   "mimetype": "text/x-python",
   "name": "python",
   "nbconvert_exporter": "python",
   "pygments_lexer": "ipython3",
   "version": "3.9.12"
  },
  "papermill": {
   "default_parameters": {},
   "duration": 166.350749,
   "end_time": "2022-08-22T15:51:38.775654",
   "environment_variables": {},
   "exception": null,
   "input_path": "__notebook__.ipynb",
   "output_path": "__notebook__.ipynb",
   "parameters": {},
   "start_time": "2022-08-22T15:48:52.424905",
   "version": "2.3.4"
  }
 },
 "nbformat": 4,
 "nbformat_minor": 5
}
